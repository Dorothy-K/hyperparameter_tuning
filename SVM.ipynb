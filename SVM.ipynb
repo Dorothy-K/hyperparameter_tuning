{
 "cells": [
  {
   "cell_type": "code",
   "execution_count": 1,
   "metadata": {},
   "outputs": [
    {
     "name": "stderr",
     "output_type": "stream",
     "text": [
      "/opt/anaconda3/lib/python3.7/site-packages/statsmodels/tools/_testing.py:19: FutureWarning: pandas.util.testing is deprecated. Use the functions in the public API at pandas.testing instead.\n",
      "  import pandas.util.testing as tm\n"
     ]
    }
   ],
   "source": [
    "#importing modules necessary\n",
    "import numpy as np\n",
    "import pandas as pd\n",
    "import math\n",
    "\n",
    "#importing modules required for processing spectra\n",
    "from scipy.signal import savgol_filter\n",
    "from sklearn.preprocessing import scale\n",
    "from sklearn.preprocessing import StandardScaler\n",
    "\n",
    "#import package to split train and test data\n",
    "from sklearn.model_selection import train_test_split\n",
    "\n",
    "\n",
    "#import modelling packages\n",
    "from sklearn.model_selection import cross_val_predict\n",
    "from sklearn import model_selection\n",
    "from sklearn.model_selection import train_test_split\n",
    "from sklearn.cross_decomposition import PLSRegression\n",
    "from sklearn.cross_decomposition import PLSRegression\n",
    "from sklearn.decomposition import PCA\n",
    "from sklearn.linear_model import LinearRegression\n",
    "from sklearn.svm import SVR\n",
    "from sklearn.model_selection import GridSearchCV\n",
    "\n",
    "#importing essential package to make a pipeline\n",
    "from sklearn.pipeline import make_pipeline\n",
    "\n",
    "#importing visualisation packages\n",
    "import matplotlib.pyplot as plt\n",
    "import seaborn as sns\n",
    "\n",
    "#importing metrics\n",
    "from sklearn.metrics import r2_score\n",
    "from sklearn.metrics import mean_squared_error\n",
    "from sklearn.metrics import mean_absolute_error\n",
    "\n",
    "#ignoring warning\n",
    "import warnings\n",
    "warnings.filterwarnings('ignore')"
   ]
  },
  {
   "cell_type": "code",
   "execution_count": 2,
   "metadata": {},
   "outputs": [],
   "source": [
    "#finding wavelengths\n",
    "def wavelength_calc(dataframe):\n",
    "    wave_length = []\n",
    "    columns = dataframe.columns\n",
    "    for i in columns:\n",
    "        #if len(i.split('X')) ==2 :\n",
    "        if len(i.split('X')) ==2 :\n",
    "            wave_length.append(float(i.split('X')[1]))\n",
    "        else:\n",
    "            wave_length.append(float(i))\n",
    "    return wave_length\n",
    "\n",
    "#Creating a smoothing function\n",
    "def smooth_fast(spectra,window_size,columns):\n",
    "    #Smoothing spectra using matrix operations:\n",
    "    #Create smoothing matrix:\n",
    "    #start=datetime.now()\n",
    "    m_rows = len(range(window_size,len(columns)-window_size))\n",
    "    m_cols = 2*window_size\n",
    "    matrix = np.zeros((m_rows,m_cols),dtype=int)\n",
    "    for j in range(0, len(matrix)):\n",
    "        k = j+1\n",
    "        matrix[j] = [x for x in range(k,k+2*window_size)]\n",
    "    #Smoothing spectra using matrix operations:\n",
    "    n_cols = m_rows\n",
    "    newspectra = np.zeros((len(spectra),n_cols))\n",
    "    for i in range(len(matrix)):\n",
    "        newspectra[:,i] = np.mean(spectra[: ,matrix[i]],axis=1)\n",
    "    #Add front and end tails (not smoothed):\n",
    "    #new_spectra = np.asarray(newspectra)\n",
    "    fronttail = newspectra[:,:1]\n",
    "    endtail = newspectra[:,-1:]\n",
    "    for k in range(1,window_size):\n",
    "        fronttail=np.append(fronttail,newspectra[:,:1], axis=1)\n",
    "        endtail = np.append(endtail,newspectra[:,-1:], axis =1)\n",
    "    data = np.concatenate((fronttail, newspectra, endtail), axis=1)\n",
    "    #result = pd.DataFrame(data=data, columns = columns)\n",
    "    #print(datetime.now()-start)\n",
    "    return data\n",
    "\n",
    "#Function definition for smoothing using Savtizky Golay method\n",
    "def savitzky(input_array, window_length):\n",
    "    savgol = savgol_filter(input_array, window_length, polyorder = 2)\n",
    "    return savgol\n",
    "\n",
    "def SNV(input_array):\n",
    "    #spectra_arr = np.asarray(spectra)\n",
    "    #spectra_t = np.transpose(input_array)#np.transpose(spectra_arr)\n",
    "    #scale(X, *, axis=0, with_mean=True, with_std=True, copy=True)\n",
    "    spectrat_snv = scale(input_array, axis=0)#scale(spectra_t,axis=0)\n",
    "    #spectra_snv = pd.DataFrame(np.transpose(spectrat_snv),columns=columns)\n",
    "    return spectrat_snv\n",
    "\n",
    "#Multiplicative scatter correction\n",
    "def msc(input_array, reference = None):\n",
    "    ''' Perform Multiplicative scatter correction'''\n",
    "\n",
    "    #Mean correction\n",
    "    for i in range(input_array.shape[0]):\n",
    "        input_array[i,:] -= input_array[i,:].mean()\n",
    "\n",
    "    # Get the reference spectrum. If not given, estimate from the mean    \n",
    "    if reference is None:    \n",
    "        # Calculate mean\n",
    "        ref = np.mean(input_array, axis=0)\n",
    "    else:\n",
    "        ref = reference\n",
    "\n",
    "    # Define a new data matrix and populate it with the corrected data    \n",
    "    output_data = np.zeros_like(input_array)\n",
    "    for i in range(input_array.shape[0]):\n",
    "        # Run regression\n",
    "        fit = np.polyfit(ref, input_array[i,:], 1, full=True)\n",
    "        # Apply correction\n",
    "        output_data[i,:] = (input_array[i,:] - fit[0][1]) / fit[0][0] \n",
    "    #print(fit)\n",
    "    return output_data\n",
    "#Apply derivate in second order, applying third and fourth order derivatives will remove all variance in the data. \n",
    "#Derivative 2\n",
    "def derivate_second(input_array, window_length):\n",
    "    der1 = savgol_filter(input_array, window_length, polyorder = 2,deriv=1)\n",
    "    der2 = savgol_filter(der1, window_length, polyorder = 2, deriv=2)\n",
    "    return der2\n",
    "#Derivative 1\n",
    "def derivate_first(input_array, window_length):\n",
    "    der1 = savgol_filter(input_array, window_length, polyorder = 2,deriv=1)\n",
    "    return der1\n",
    "#remove baseline\n",
    "def baseline(input_array,X):\n",
    "    base = np.zeros((len(input_array),len(X)))\n",
    "    for i in range(len(input_array)):\n",
    "        c = np.polyfit(X, input_array[i], 2)\n",
    "        base[i] = np.polyval(c, X)\n",
    "    #Baseline removal\n",
    "    base_remove = input_array - base\n",
    "    return base_remove"
   ]
  },
  {
   "cell_type": "code",
   "execution_count": 3,
   "metadata": {},
   "outputs": [],
   "source": [
    "\n",
    "# SAVGOL - 1ST DERUVATIVE - 2ND DERIVATIVE PREPROCESSING\n",
    "# def savitzky(input_array, window_length):\n",
    "#     savgol = savgol_filter(input_array, window_length, polyorder = 2)\n",
    "#     der1 = savgol_filter(savgol, window_length, polyorder = 2,deriv=1)\n",
    "#     der2 = savgol_filter(der1, window_length, polyorder = 2, deriv=2)\n",
    "#     return der2\n",
    "\n",
    "#Apply Standard Normal Variate\n",
    "# def SNV(input_array):\n",
    "#     '''input as an array'''\n",
    "#     #arr = np.asarray(input_array)\n",
    "#     #transpose = np.transpose(input_array)\n",
    "#     snv_result = scale(input_array,axis=0)\n",
    "#     #spectra_snv = pd.DataFrame(np.transpose(spectrat_snv),columns=columns)\n",
    "#     return snv_result\n"
   ]
  },
  {
   "cell_type": "code",
   "execution_count": 4,
   "metadata": {},
   "outputs": [],
   "source": [
    "model_dataset = pd.read_csv('Datasets/merged_cleaned.csv')"
   ]
  },
  {
   "cell_type": "code",
   "execution_count": 5,
   "metadata": {},
   "outputs": [
    {
     "name": "stdout",
     "output_type": "stream",
     "text": [
      "(532, 801)\n",
      "(532,)\n"
     ]
    }
   ],
   "source": [
    "X = model_dataset[model_dataset.columns[4:]]\n",
    "print(X.shape)\n",
    "y = model_dataset.iloc[:,3]\n",
    "print(y.shape)"
   ]
  },
  {
   "cell_type": "code",
   "execution_count": 6,
   "metadata": {},
   "outputs": [],
   "source": [
    "input_array = np.asarray(X, dtype=float)"
   ]
  },
  {
   "cell_type": "code",
   "execution_count": 7,
   "metadata": {},
   "outputs": [],
   "source": [
    "def plotting_function(dataframe, y_axisval):\n",
    "    f = plt.figure()\n",
    "    f.set_figwidth(12)\n",
    "    f.set_figheight(4)\n",
    "    for i , row in dataframe.iterrows():\n",
    "        plt.plot(y_axisval,row)\n",
    "    plt.show()"
   ]
  },
  {
   "cell_type": "code",
   "execution_count": 8,
   "metadata": {},
   "outputs": [],
   "source": [
    "#plotting_function(X, wavelength_calc(X))"
   ]
  },
  {
   "cell_type": "markdown",
   "metadata": {},
   "source": [
    "### SVM regression for raw spectrum"
   ]
  },
  {
   "cell_type": "markdown",
   "metadata": {},
   "source": [
    "SVM parameters\n",
    "1. kernel{‘linear’, ‘poly’, ‘rbf’, ‘sigmoid’, ‘precomputed’}, default=’rbf’\n",
    "Specifies the kernel type to be used in the algorithm. It must be one of ‘linear’, ‘poly’, ‘rbf’, ‘sigmoid’, ‘precomputed’ or a callable. If none is given, ‘rbf’ will be used. If a callable is given it is used to precompute the kernel matrix.\n",
    "\n",
    "2. degree <int>, default=3\n",
    "Degree of the polynomial kernel function (‘poly’). Ignored by all other kernels.\n",
    "\n",
    "3. gamma{‘scale’, ‘auto’} or float, default=’scale’\n",
    "Kernel coefficient for ‘rbf’, ‘poly’ and ‘sigmoid’.\n",
    "\n",
    "if gamma='scale' (default) is passed then it uses 1 / (n_features * X.var()) as value of gamma,\n",
    "\n",
    "if ‘auto’, uses 1 / n_features.\n",
    "\n",
    "Changed in version 0.22: The default value of gamma changed from ‘auto’ to ‘scale’.\n",
    "\n",
    "4. coef0 <float>, default=0.0\n",
    "Independent term in kernel function. It is only significant in ‘poly’ and ‘sigmoid’.\n",
    "\n",
    "5. tol <float>, default=1e-3\n",
    "Tolerance for stopping criterion.\n",
    "\n",
    "6. C <float>, default=1.0\n",
    "Regularization parameter. The strength of the regularization is inversely proportional to C. Must be strictly positive. The penalty is a squared l2 penalty.\n",
    "\n",
    "7. epsilon <float>, default=0.1\n",
    "Epsilon in the epsilon-SVR model. It specifies the epsilon-tube within which no penalty is associated in the training loss function with points predicted within a distance epsilon from the actual value.\n",
    "\n",
    "8. shrinking <bool>, default=True\n",
    "Whether to use the shrinking heuristic. See the User Guide.\n",
    "\n",
    "9. cache_size <float>, default=200\n",
    "Specify the size of the kernel cache (in MB).\n",
    "\n",
    "10. verbose <bool>, default=False\n",
    "Enable verbose output. Note that this setting takes advantage of a per-process runtime setting in libsvm that, if enabled, may not work properly in a multithreaded context.\n",
    "\n",
    "11. max_iter <int>, default=-1\n",
    "Hard limit on iterations within solver, or -1 for no limit."
   ]
  },
  {
   "cell_type": "code",
   "execution_count": 9,
   "metadata": {},
   "outputs": [],
   "source": [
    "regr = make_pipeline(StandardScaler(), SVR()) #C=1.0, epsilon=0.2"
   ]
  },
  {
   "cell_type": "code",
   "execution_count": 10,
   "metadata": {},
   "outputs": [
    {
     "data": {
      "text/plain": [
       "Pipeline(memory=None,\n",
       "         steps=[('standardscaler',\n",
       "                 StandardScaler(copy=True, with_mean=True, with_std=True)),\n",
       "                ('svr',\n",
       "                 SVR(C=1.0, cache_size=200, coef0=0.0, degree=3, epsilon=0.1,\n",
       "                     gamma='auto_deprecated', kernel='rbf', max_iter=-1,\n",
       "                     shrinking=True, tol=0.001, verbose=False))],\n",
       "         verbose=False)"
      ]
     },
     "execution_count": 10,
     "metadata": {},
     "output_type": "execute_result"
    }
   ],
   "source": [
    "regr.fit(X, y)"
   ]
  },
  {
   "cell_type": "code",
   "execution_count": 11,
   "metadata": {},
   "outputs": [
    {
     "data": {
      "text/plain": [
       "0.11346518247196768"
      ]
     },
     "execution_count": 11,
     "metadata": {},
     "output_type": "execute_result"
    }
   ],
   "source": [
    "regr.score(X,y)"
   ]
  },
  {
   "cell_type": "code",
   "execution_count": 12,
   "metadata": {},
   "outputs": [],
   "source": [
    "#splitting into training and testing data\n",
    "X_train, X_test, y_train, y_test = train_test_split(X, y, test_size=0.30, random_state=123)"
   ]
  },
  {
   "cell_type": "code",
   "execution_count": 13,
   "metadata": {},
   "outputs": [
    {
     "data": {
      "text/plain": [
       "Pipeline(memory=None,\n",
       "         steps=[('standardscaler',\n",
       "                 StandardScaler(copy=True, with_mean=True, with_std=True)),\n",
       "                ('svr',\n",
       "                 SVR(C=1.0, cache_size=200, coef0=0.0, degree=3, epsilon=0.1,\n",
       "                     gamma='auto_deprecated', kernel='rbf', max_iter=-1,\n",
       "                     shrinking=True, tol=0.001, verbose=False))],\n",
       "         verbose=False)"
      ]
     },
     "execution_count": 13,
     "metadata": {},
     "output_type": "execute_result"
    }
   ],
   "source": [
    "regr.fit(X_train, y_train)"
   ]
  },
  {
   "cell_type": "code",
   "execution_count": 14,
   "metadata": {},
   "outputs": [
    {
     "data": {
      "text/plain": [
       "0.11772637735464009"
      ]
     },
     "execution_count": 14,
     "metadata": {},
     "output_type": "execute_result"
    }
   ],
   "source": [
    "regr.score(X_test, y_test)"
   ]
  },
  {
   "cell_type": "code",
   "execution_count": 15,
   "metadata": {},
   "outputs": [
    {
     "name": "stdout",
     "output_type": "stream",
     "text": [
      "Index(['0', '1', '2', '3', '4', '5', '6', '7', '8', '9',\n",
      "       ...\n",
      "       '791', '792', '793', '794', '795', '796', '797', '798', '799', '800'],\n",
      "      dtype='object', length=801)\n",
      "801\n",
      "<class 'str'>\n"
     ]
    }
   ],
   "source": [
    "cols = X.columns\n",
    "print(cols)\n",
    "print(len(cols))\n",
    "print(type(cols[0]))"
   ]
  },
  {
   "cell_type": "markdown",
   "metadata": {},
   "source": [
    "Using grid search to finf optimal hyper paramters in SVR"
   ]
  },
  {
   "cell_type": "code",
   "execution_count": 16,
   "metadata": {},
   "outputs": [],
   "source": [
    "# defining parameter range\n",
    "param_grid = {'C': [0.1, 1, 10, 100, 1000], \n",
    "              'gamma': [1, 0.1, 0.01, 0.001, 0.0001],\n",
    "              'kernel': ['rbf']} \n",
    "  \n",
    "grid = GridSearchCV(SVR(), param_grid, refit = True, verbose = 0)\n",
    "# print best parameter after tuning\n",
    "# print(grid.best_params_)\n",
    "  \n",
    "# print how our model looks after hyper-parameter tuning\n",
    "#print(grid.best_estimator_)\n",
    "\n",
    "# grid_predictions = grid.predict(X_test)\n",
    "# grid.score(X_test, y_test)\n",
    "# grid.score(X_train, y_train)\n",
    "spectra = np.asarray(X, dtype = float)\n",
    "#plotting_function(smooth_fast(spectra, 19, cols),cols)\n",
    "wave_length = wavelength_calc(X)\n",
    "result_df = pd.DataFrame(columns=['Trial No','Model','Pre Processing','Training R\\u00b2', 'Validation R\\u00b2'])"
   ]
  },
  {
   "cell_type": "code",
   "execution_count": 17,
   "metadata": {},
   "outputs": [
    {
     "name": "stdout",
     "output_type": "stream",
     "text": [
      "Trial 1\n",
      "PRE PROCESSING STEP: None\n",
      "Trial 1 : Best Parameters {'C': 1000, 'gamma': 1, 'kernel': 'rbf'}\n",
      "Training R²  0.7361680972799547\n",
      "Validation R²  0.6008417822018887\n"
     ]
    }
   ],
   "source": [
    "# fitting the model for grid search\n",
    "#Trial 1 Raw spectra\n",
    "print(\"Trial 1\")\n",
    "print(\"PRE PROCESSING STEP: None\")\n",
    "#input to base line removal is input array\n",
    "preprocessed_spectra = pd.DataFrame(spectra, columns=cols)\n",
    "#plotting_function(preprocessed_spectra, wave_length)\n",
    "#input for moving window smoothing is an array\n",
    "X_train, X_test, y_train, y_test = train_test_split(preprocessed_spectra, y, test_size=0.30, random_state=123)\n",
    "grid.fit(X_train, y_train)\n",
    "# print best parameter after tuning\n",
    "print(\"Trial 1 : Best Parameters\", grid.best_params_)\n",
    "print(\"Training R\\u00b2 \", grid.score(X_train, y_train))\n",
    "print(\"Validation R\\u00b2 \",grid.score(X_test, y_test))\n",
    "result_df = result_df.append({'Trial No' : 'Trial 1','Model' : 'SVM','Pre Processing': 'None', \n",
    "                              'Training R\\u00b2' : grid.score(X_train, y_train), \n",
    "                              'Validation R\\u00b2' : grid.score(X_test, y_test)}, \n",
    "                             ignore_index=True)"
   ]
  },
  {
   "cell_type": "code",
   "execution_count": 18,
   "metadata": {},
   "outputs": [
    {
     "name": "stdout",
     "output_type": "stream",
     "text": [
      "Trial 2\n",
      "PRE PROCESSING STEP: Moving Window Smoothing\n",
      "Training R²  0.6921935662478713\n",
      "Validation R²  0.5629308413747942\n"
     ]
    }
   ],
   "source": [
    "#Trial 2 Moving Window\n",
    "print(\"Trial 2\")\n",
    "print(\"PRE PROCESSING STEP: Moving Window Smoothing\")\n",
    "#input to base line removal is input array\n",
    "preprocessed_spectra = pd.DataFrame(smooth_fast(spectra, 19, wave_length), columns=cols)\n",
    "#plotting_function(preprocessed_spectra, wave_length)\n",
    "#input for moving window smoothing is an array\n",
    "X_train, X_test, y_train, y_test = train_test_split(preprocessed_spectra, y, test_size=0.30, random_state=123)\n",
    "grid.fit(X_train, y_train)\n",
    "# print best parameter after tuning\n",
    "#print(\"Trial 2 : Best Parameters\", grid.best_params_)\n",
    "print(\"Training R\\u00b2 \", grid.score(X_train, y_train))\n",
    "print(\"Validation R\\u00b2 \",grid.score(X_test, y_test))\n",
    "result_df = result_df.append({'Trial No' : 'Trial 2','Model' : 'SVM','Pre Processing': 'MW', \n",
    "                              'Training R\\u00b2' : grid.score(X_train, y_train), \n",
    "                              'Validation R\\u00b2' : grid.score(X_test, y_test)}, \n",
    "                             ignore_index=True)"
   ]
  },
  {
   "cell_type": "code",
   "execution_count": 19,
   "metadata": {},
   "outputs": [
    {
     "name": "stdout",
     "output_type": "stream",
     "text": [
      "Trial 3\n",
      "PRE PROCESSING STEP: Savitzky Golay Smoothing\n",
      "Training R²  0.7111680234479897\n",
      "Validation R²  0.588550560193477\n"
     ]
    }
   ],
   "source": [
    "#Trial 3 Savitzky Golay smoothing\n",
    "print(\"Trial 3\")\n",
    "print(\"PRE PROCESSING STEP: Savitzky Golay Smoothing\")\n",
    "#Using the same window size as in moving window smoothing\n",
    "preprocessed_spectra = pd.DataFrame(savitzky(input_array, 19), columns=cols)\n",
    "#plotting_function(preprocessed_spectra, wave_length)\n",
    "X_train, X_test, y_train, y_test = train_test_split(preprocessed_spectra, y, test_size=0.30, random_state=123) \n",
    "grid.fit(X_train, y_train)\n",
    "# print best parameter after tuning\n",
    "#print(\"Trial 3 : Best Parameters\", grid.best_params_)\n",
    "print(\"Training R\\u00b2 \", grid.score(X_train, y_train))\n",
    "print(\"Validation R\\u00b2 \",grid.score(X_test, y_test))\n",
    "result_df = result_df.append({'Trial No' : 'Trial 3','Model' : 'SVM','Pre Processing': 'SG', \n",
    "                              'Training R\\u00b2' : grid.score(X_train, y_train), \n",
    "                              'Validation R\\u00b2' : grid.score(X_test, y_test)}, \n",
    "                             ignore_index=True)"
   ]
  },
  {
   "cell_type": "code",
   "execution_count": 20,
   "metadata": {},
   "outputs": [
    {
     "name": "stdout",
     "output_type": "stream",
     "text": [
      "Trial 4\n",
      "PRE PROCESSING STEP: Standard Normal Variate\n",
      "Training R²  0.9956241626669088\n",
      "Validation R²  0.46682103720241175\n"
     ]
    }
   ],
   "source": [
    "#Trial 4 SNV\n",
    "print(\"Trial 4\")\n",
    "print(\"PRE PROCESSING STEP: Standard Normal Variate\")\n",
    "#input for SNV is an input array\n",
    "preprocessed_spectra = pd.DataFrame(SNV(spectra), columns=cols)\n",
    "#plotting_function(preprocessed_spectra, wave_length)\n",
    "X_train, X_test, y_train, y_test = train_test_split(preprocessed_spectra, y, test_size=0.30, random_state=123) \n",
    "grid.fit(X_train, y_train)\n",
    "# print best parameter after tuning\n",
    "#print(\"Trial 4 : Best Parameters\", grid.best_params_)\n",
    "print(\"Training R\\u00b2 \", grid.score(X_train, y_train))\n",
    "print(\"Validation R\\u00b2 \",grid.score(X_test, y_test))\n",
    "result_df = result_df.append({'Trial No' : 'Trial 4','Model' : 'SVM','Pre Processing': 'SNV', \n",
    "                              'Training R\\u00b2' : grid.score(X_train, y_train), \n",
    "                              'Validation R\\u00b2' : grid.score(X_test, y_test)}, \n",
    "                             ignore_index=True)"
   ]
  },
  {
   "cell_type": "code",
   "execution_count": 21,
   "metadata": {},
   "outputs": [
    {
     "name": "stdout",
     "output_type": "stream",
     "text": [
      "Trial 5\n",
      "PRE PROCESSING STEP: Multiplicative Scatter Correction\n",
      "Training R²  0.16682259861468474\n",
      "Validation R²  0.02729729181555207\n"
     ]
    }
   ],
   "source": [
    "#Trial 5 Multiplicative Scatter Correction\n",
    "#Input for MSC is an array\n",
    "print(\"Trial 5\")\n",
    "print(\"PRE PROCESSING STEP: Multiplicative Scatter Correction\")\n",
    "preprocessed_spectra = pd.DataFrame(msc(spectra), columns=cols)\n",
    "#plotting_function(preprocessed_spectra, wave_length)\n",
    "#input to base line removal is a dataframe\n",
    "X_train, X_test, y_train, y_test = train_test_split(preprocessed_spectra, y, test_size=0.30, random_state=123) \n",
    "grid.fit(X_train, y_train)\n",
    "# print best parameter after tuning\n",
    "#print(\"Trial 5 : Best Parameters\", grid.best_params_)\n",
    "print(\"Training R\\u00b2 \", grid.score(X_train, y_train))\n",
    "print(\"Validation R\\u00b2 \",grid.score(X_test, y_test))\n",
    "result_df = result_df.append({'Trial No' : 'Trial 5','Model' : 'SVM','Pre Processing': 'MSC', \n",
    "                              'Training R\\u00b2' : grid.score(X_train, y_train), \n",
    "                              'Validation R\\u00b2' : grid.score(X_test, y_test)}, \n",
    "                             ignore_index=True)"
   ]
  },
  {
   "cell_type": "code",
   "execution_count": 22,
   "metadata": {},
   "outputs": [
    {
     "name": "stdout",
     "output_type": "stream",
     "text": [
      "Trial 6\n",
      "PRE PROCESSING STEP: De-Trending\n",
      "Trial 6 : Best Parameters {'C': 1000, 'gamma': 0.1, 'kernel': 'rbf'}\n",
      "Training R²  0.17741110812726002\n",
      "Validation R²  0.10052917558522012\n"
     ]
    }
   ],
   "source": [
    "#Trial 6 De-Trending\n",
    "print(\"Trial 6\")\n",
    "print(\"PRE PROCESSING STEP: De-Trending\")\n",
    "#input to base line removal is input array\n",
    "preprocessed_spectra = pd.DataFrame(baseline(spectra, wave_length), columns=cols)\n",
    "#plotting_function(preprocessed_spectra, wave_length)\n",
    "#input to base line removal is a dataframe\n",
    "X_train, X_test, y_train, y_test = train_test_split(preprocessed_spectra, y, test_size=0.30, random_state=123) \n",
    "grid.fit(X_train, y_train)\n",
    "# print best parameter after tuning\n",
    "print(\"Trial 6 : Best Parameters\", grid.best_params_)\n",
    "print(\"Training R\\u00b2 \", grid.score(X_train, y_train))\n",
    "print(\"Validation R\\u00b2 \",grid.score(X_test, y_test))\n",
    "result_df = result_df.append({'Trial No' : 'Trial 6','Model' : 'SVM','Pre Processing': 'De-Trending', \n",
    "                              'Training R\\u00b2' : grid.score(X_train, y_train), \n",
    "                              'Validation R\\u00b2' : grid.score(X_test, y_test)}, \n",
    "                             ignore_index=True)"
   ]
  },
  {
   "cell_type": "code",
   "execution_count": 23,
   "metadata": {},
   "outputs": [
    {
     "name": "stdout",
     "output_type": "stream",
     "text": [
      "Trial 7\n",
      "PRE PROCESSING STEP: First Order Derivative\n",
      "Training R²  -0.0005737100791920469\n",
      "Validation R²  -0.0001552605172241428\n"
     ]
    }
   ],
   "source": [
    "#Trial 7 Frist Order Derivative\n",
    "#Input for derivative is an array\n",
    "print(\"Trial 7\")\n",
    "print(\"PRE PROCESSING STEP: First Order Derivative\")\n",
    "#window length is 19 same as that for moving window smoothing\n",
    "preprocessed_spectra = pd.DataFrame(derivate_first(spectra, 19), columns=cols)\n",
    "#plotting_function(preprocessed_spectra, wave_length)\n",
    "#input to base line removal is a dataframe\n",
    "X_train, X_test, y_train, y_test = train_test_split(preprocessed_spectra, y, test_size=0.30, random_state=123) \n",
    "grid.fit(X_train, y_train)\n",
    "# print best parameter after tuning\n",
    "#print(\"Trial 7 : Best Parameters\", grid.best_params_)\n",
    "print(\"Training R\\u00b2 \", grid.score(X_train, y_train))\n",
    "print(\"Validation R\\u00b2 \",grid.score(X_test, y_test))\n",
    "result_df = result_df.append({'Trial No' : 'Trial 7','Model' : 'SVM','Pre Processing': 'First Order Derivative', \n",
    "                              'Training R\\u00b2' : grid.score(X_train, y_train), \n",
    "                              'Validation R\\u00b2' : grid.score(X_test, y_test)}, \n",
    "                             ignore_index=True)"
   ]
  },
  {
   "cell_type": "code",
   "execution_count": 24,
   "metadata": {},
   "outputs": [
    {
     "name": "stdout",
     "output_type": "stream",
     "text": [
      "Trial 8\n",
      "PRE PROCESSING STEP: Second Order Derivative\n",
      "Training R²  -0.010074559283906215\n",
      "Validation R²  -0.0004564160511721926\n"
     ]
    }
   ],
   "source": [
    "#Trial 8 Second Order Derivative\n",
    "#Input for derivative is an array\n",
    "print(\"Trial 8\")\n",
    "print(\"PRE PROCESSING STEP: Second Order Derivative\")\n",
    "#window length is 19 same as that for moving window smoothing\n",
    "preprocessed_spectra = pd.DataFrame(derivate_second(spectra, 19), columns=cols)\n",
    "#plotting_function(preprocessed_spectra, wave_length)\n",
    "#input to base line removal is a dataframe\n",
    "X_train, X_test, y_train, y_test = train_test_split(preprocessed_spectra, y, test_size=0.30, random_state=123) \n",
    "grid.fit(X_train, y_train)\n",
    "# print best parameter after tuning\n",
    "#print(\"Trial 7 : Best Parameters\", grid.best_params_)\n",
    "print(\"Training R\\u00b2 \", grid.score(X_train, y_train))\n",
    "print(\"Validation R\\u00b2 \",grid.score(X_test, y_test))\n",
    "result_df = result_df.append({'Trial No' : 'Trial 8','Model' : 'SVM','Pre Processing': 'Second Order Derivative', \n",
    "                              'Training R\\u00b2' : grid.score(X_train, y_train), \n",
    "                              'Validation R\\u00b2' : grid.score(X_test, y_test)}, \n",
    "                             ignore_index=True)"
   ]
  },
  {
   "cell_type": "code",
   "execution_count": 25,
   "metadata": {},
   "outputs": [
    {
     "name": "stdout",
     "output_type": "stream",
     "text": [
      "Trial 9\n",
      "PRE PROCESSING STEP: Moving window and SNV\n",
      "Training R²  0.9844259425810032\n",
      "Validation R²  0.750279813901561\n"
     ]
    }
   ],
   "source": [
    "#Trial 9 Moving window , SNV\n",
    "#Input for derivative is an array\n",
    "print(\"Trial 9\")\n",
    "print(\"PRE PROCESSING STEP: Moving window and SNV\")\n",
    "#window length is 19 same as that for moving window smoothing\n",
    "preprocessed_spectra = pd.DataFrame(SNV(smooth_fast(spectra, 19, cols)), columns=cols)\n",
    "#plotting_function(preprocessed_spectra, wave_length)\n",
    "#input to base line removal is a dataframe\n",
    "X_train, X_test, y_train, y_test = train_test_split(preprocessed_spectra, y, test_size=0.30, random_state=123) \n",
    "grid.fit(X_train, y_train)\n",
    "# print best parameter after tuning\n",
    "#print(\"Trial 9 : Best Parameters\", grid.best_params_)\n",
    "print(\"Training R\\u00b2 \", grid.score(X_train, y_train))\n",
    "print(\"Validation R\\u00b2 \",grid.score(X_test, y_test))\n",
    "result_df = result_df.append({'Trial No' : 'Trial 9','Model' : 'SVM','Pre Processing': 'Moving window and SNV', \n",
    "                              'Training R\\u00b2' : grid.score(X_train, y_train), \n",
    "                              'Validation R\\u00b2' : grid.score(X_test, y_test)}, \n",
    "                             ignore_index=True)"
   ]
  },
  {
   "cell_type": "code",
   "execution_count": 26,
   "metadata": {},
   "outputs": [
    {
     "name": "stdout",
     "output_type": "stream",
     "text": [
      "Trial 10\n",
      "PRE PROCESSING STEP: Moving window and MSC\n",
      "Training R²  0.9782011633187689\n",
      "Validation R²  0.7286692762516265\n"
     ]
    }
   ],
   "source": [
    "#Trial 10 Moving window , MSC\n",
    "#Input for derivative is an array\n",
    "print(\"Trial 10\")\n",
    "print(\"PRE PROCESSING STEP: Moving window and MSC\")\n",
    "#window length is 19 same as that for moving window smoothing\n",
    "preprocessed_spectra = pd.DataFrame(msc(smooth_fast(spectra, 19, cols), wave_length), columns=cols)\n",
    "#plotting_function(preprocessed_spectra, wave_length)\n",
    "#input to base line removal is a dataframe\n",
    "X_train, X_test, y_train, y_test = train_test_split(preprocessed_spectra, y, test_size=0.30, random_state=123) \n",
    "grid.fit(X_train, y_train)\n",
    "# print best parameter after tuning\n",
    "#print(\"Trial 10 : Best Parameters\", grid.best_params_)\n",
    "print(\"Training R\\u00b2 \", grid.score(X_train, y_train))\n",
    "print(\"Validation R\\u00b2 \",grid.score(X_test, y_test))\n",
    "result_df = result_df.append({'Trial No' : 'Trial 10','Model' : 'SVM','Pre Processing': 'Moving window and MSC', \n",
    "                              'Training R\\u00b2' : grid.score(X_train, y_train), \n",
    "                              'Validation R\\u00b2' : grid.score(X_test, y_test)}, \n",
    "                             ignore_index=True)"
   ]
  },
  {
   "cell_type": "code",
   "execution_count": 27,
   "metadata": {},
   "outputs": [
    {
     "name": "stdout",
     "output_type": "stream",
     "text": [
      "Trial 11\n",
      "PRE PROCESSING STEP: Moving window and De-Trending\n",
      "Training R²  0.14463125946953115\n",
      "Validation R²  0.10378013995562407\n"
     ]
    }
   ],
   "source": [
    "#Trial 11 Moving window , De-Trending\n",
    "#Input for derivative is an array\n",
    "print(\"Trial 11\")\n",
    "print(\"PRE PROCESSING STEP: Moving window and De-Trending\")\n",
    "#window length is 19 same as that for moving window smoothing\n",
    "preprocessed_spectra = pd.DataFrame(baseline(smooth_fast(spectra, 19, cols), wave_length), columns=cols)\n",
    "#plotting_function(preprocessed_spectra, wave_length)\n",
    "#input to base line removal is a dataframe\n",
    "X_train, X_test, y_train, y_test = train_test_split(preprocessed_spectra, y, test_size=0.30, random_state=123) \n",
    "grid.fit(X_train, y_train)\n",
    "# print best parameter after tuning\n",
    "#print(\"Trial 11 : Best Parameters\", grid.best_params_)\n",
    "print(\"Training R\\u00b2 \", grid.score(X_train, y_train))\n",
    "print(\"Validation R\\u00b2 \",grid.score(X_test, y_test))\n",
    "result_df = result_df.append({'Trial No' : 'Trial 11','Model' : 'SVM','Pre Processing': 'Moving window and De-Trending', \n",
    "                              'Training R\\u00b2' : grid.score(X_train, y_train), \n",
    "                              'Validation R\\u00b2' : grid.score(X_test, y_test)}, \n",
    "                             ignore_index=True)"
   ]
  },
  {
   "cell_type": "code",
   "execution_count": 28,
   "metadata": {},
   "outputs": [
    {
     "name": "stdout",
     "output_type": "stream",
     "text": [
      "Trial 12\n",
      "PRE PROCESSING STEP: Moving window and 1st order Derivative\n",
      "Training R²  -0.010077233660684692\n",
      "Validation R²  -0.00046467578101183626\n"
     ]
    }
   ],
   "source": [
    "#Trial 12 Moving window , First ORder Derivative\n",
    "#Input for derivative is an array\n",
    "print(\"Trial 12\")\n",
    "print(\"PRE PROCESSING STEP: Moving window and 1st order Derivative\")\n",
    "#window length is 19 same as that for moving window smoothing\n",
    "preprocessed_spectra = pd.DataFrame(derivate_first(smooth_fast(spectra, 19, cols), 19), columns=cols)\n",
    "#plotting_function(preprocessed_spectra, wave_length)\n",
    "#input to base line removal is a dataframe\n",
    "X_train, X_test, y_train, y_test = train_test_split(preprocessed_spectra, y, test_size=0.30, random_state=123) \n",
    "grid.fit(X_train, y_train)\n",
    "# print best parameter after tuning\n",
    "#print(\"Trial 12 : Best Parameters\", grid.best_params_)\n",
    "print(\"Training R\\u00b2 \", grid.score(X_train, y_train))\n",
    "print(\"Validation R\\u00b2 \",grid.score(X_test, y_test))\n",
    "result_df = result_df.append({'Trial No' : 'Trial 12','Model' : 'SVM','Pre Processing': 'Moving window and 1st order Derivative', \n",
    "                              'Training R\\u00b2' : grid.score(X_train, y_train), \n",
    "                              'Validation R\\u00b2' : grid.score(X_test, y_test)}, \n",
    "                             ignore_index=True)"
   ]
  },
  {
   "cell_type": "code",
   "execution_count": 30,
   "metadata": {},
   "outputs": [
    {
     "name": "stdout",
     "output_type": "stream",
     "text": [
      "Trial 13\n",
      "PRE PROCESSING STEP: Moving window and 2nd order Derivative\n",
      "Trial 13 : Best Parameters {'C': 0.1, 'gamma': 0.0001, 'kernel': 'rbf'}\n",
      "Training R²  -0.010074559283894446\n",
      "Validation R²  -0.0004564160511755233\n"
     ]
    }
   ],
   "source": [
    "#Trial 13 Moving window , Derivative\n",
    "#Input for derivative is an array\n",
    "print(\"Trial 13\")\n",
    "print(\"PRE PROCESSING STEP: Moving window and 2nd order Derivative\")\n",
    "#window length is 19 same as that for moving window smoothing\n",
    "preprocessed_spectra = pd.DataFrame(derivate_second(smooth_fast(spectra, 19, cols), 19), columns=cols)\n",
    "#plotting_function(preprocessed_spectra, wave_length)\n",
    "#input to base line removal is a dataframe\n",
    "X_train, X_test, y_train, y_test = train_test_split(preprocessed_spectra, y, test_size=0.30, random_state=123) \n",
    "grid.fit(X_train, y_train)\n",
    "# print best parameter after tuning\n",
    "print(\"Trial 13 : Best Parameters\", grid.best_params_)\n",
    "print(\"Training R\\u00b2 \", grid.score(X_train, y_train))\n",
    "print(\"Validation R\\u00b2 \",grid.score(X_test, y_test))\n",
    "result_df = result_df.append({'Trial No' : 'Trial 13','Model' : 'SVM','Pre Processing': 'Moving window and 2nd order Derivative', \n",
    "                              'Training R\\u00b2' : grid.score(X_train, y_train), \n",
    "                              'Validation R\\u00b2' : grid.score(X_test, y_test)}, \n",
    "                             ignore_index=True)"
   ]
  },
  {
   "cell_type": "code",
   "execution_count": 31,
   "metadata": {},
   "outputs": [
    {
     "name": "stdout",
     "output_type": "stream",
     "text": [
      "Trial 14\n",
      "PRE PROCESSING STEP: Savitzky Golay smoothing and SNV\n",
      "Trial 14 : Best Parameters {'C': 100, 'gamma': 0.01, 'kernel': 'rbf'}\n",
      "Training R²  0.9937514700606833\n",
      "Validation R²  0.7369968143572675\n"
     ]
    }
   ],
   "source": [
    "#Trial 14 Savtizky Golay , SNV\n",
    "#\n",
    "print(\"Trial 14\")\n",
    "print(\"PRE PROCESSING STEP: Savitzky Golay smoothing and SNV\")\n",
    "#window length is 19 same as that for moving window smoothing\n",
    "preprocessed_spectra = pd.DataFrame(SNV(savitzky(input_array, 19)), columns=cols)\n",
    "#plotting_function(preprocessed_spectra, wave_length)\n",
    "#input to base line removal is a dataframe\n",
    "X_train, X_test, y_train, y_test = train_test_split(preprocessed_spectra, y, test_size=0.30, random_state=123) \n",
    "grid.fit(X_train, y_train)\n",
    "# print best parameter after tuning\n",
    "print(\"Trial 14 : Best Parameters\", grid.best_params_)\n",
    "print(\"Training R\\u00b2 \", grid.score(X_train, y_train))\n",
    "print(\"Validation R\\u00b2 \",grid.score(X_test, y_test))\n",
    "result_df = result_df.append({'Trial No' : 'Trial 14','Model' : 'SVM','Pre Processing': 'Savitzky Golay smoothing and SNV', \n",
    "                              'Training R\\u00b2' : grid.score(X_train, y_train), \n",
    "                              'Validation R\\u00b2' : grid.score(X_test, y_test)}, \n",
    "                             ignore_index=True)"
   ]
  },
  {
   "cell_type": "code",
   "execution_count": 32,
   "metadata": {},
   "outputs": [
    {
     "name": "stdout",
     "output_type": "stream",
     "text": [
      "Trial 15\n",
      "PRE PROCESSING STEP: Savitzky Golay smoothing and MSC\n",
      "Training R²    0.12385615828894081\n",
      "Validation R²  0.06604018711597026\n"
     ]
    }
   ],
   "source": [
    "#Trial 15 Savtizky Golay , MSC\n",
    "#\n",
    "print(\"Trial 15\")\n",
    "print(\"PRE PROCESSING STEP: Savitzky Golay smoothing and MSC\")\n",
    "#window length is 19 same as that for moving window smoothing\n",
    "preprocessed_spectra = pd.DataFrame(msc(savitzky(input_array, 19)), columns=cols)\n",
    "#plotting_function(preprocessed_spectra, wave_length)\n",
    "#input to base line removal is a dataframe\n",
    "X_train, X_test, y_train, y_test = train_test_split(preprocessed_spectra, y, test_size=0.30, random_state=123) \n",
    "grid.fit(X_train, y_train)\n",
    "# print best parameter after tuning\n",
    "#print(\"Trial 15 : Best Parameters\", grid.best_params_)\n",
    "print(\"Training R\\u00b2   \", grid.score(X_train, y_train))\n",
    "print(\"Validation R\\u00b2 \",grid.score(X_test, y_test))\n",
    "result_df = result_df.append({'Trial No' : 'Trial 15','Model' : 'SVM','Pre Processing': 'Savitzky Golay smoothing and MSC', \n",
    "                              'Training R\\u00b2' : grid.score(X_train, y_train), \n",
    "                              'Validation R\\u00b2' : grid.score(X_test, y_test)}, \n",
    "                             ignore_index=True)"
   ]
  },
  {
   "cell_type": "code",
   "execution_count": 33,
   "metadata": {},
   "outputs": [
    {
     "name": "stdout",
     "output_type": "stream",
     "text": [
      "Trial 16\n",
      "PRE PROCESSING STEP: Savitzky Golay smoothing and baseline removal\n",
      "Training R²    0.16240838149991332\n",
      "Validation R²  0.10088751495127735\n"
     ]
    }
   ],
   "source": [
    "#Trial 16 Savtizky Golay , De-Trending\n",
    "#\n",
    "print(\"Trial 16\")\n",
    "print(\"PRE PROCESSING STEP: Savitzky Golay smoothing and baseline removal\")\n",
    "#window length is 19 same as that for moving window smoothing\n",
    "preprocessed_spectra = pd.DataFrame(baseline(savitzky(input_array, 19), wave_length), columns=cols)\n",
    "#plotting_function(preprocessed_spectra, wave_length)\n",
    "#input to base line removal is a dataframe\n",
    "X_train, X_test, y_train, y_test = train_test_split(preprocessed_spectra, y, test_size=0.30, random_state=123) \n",
    "grid.fit(X_train, y_train)\n",
    "# print best parameter after tuning\n",
    "#print(\"Trial 16 : Best Parameters\", grid.best_params_)\n",
    "print(\"Training R\\u00b2   \", grid.score(X_train, y_train))\n",
    "print(\"Validation R\\u00b2 \",grid.score(X_test, y_test))\n",
    "result_df = result_df.append({'Trial No' : 'Trial 16','Model' : 'SVM',\n",
    "                              'Pre Processing': 'Savitzky Golay smoothing and baseline removal', \n",
    "                              'Training R\\u00b2' : grid.score(X_train, y_train), \n",
    "                              'Validation R\\u00b2' : grid.score(X_test, y_test)}, \n",
    "                             ignore_index=True)"
   ]
  },
  {
   "cell_type": "code",
   "execution_count": 34,
   "metadata": {},
   "outputs": [
    {
     "name": "stdout",
     "output_type": "stream",
     "text": [
      "Trial 17\n",
      "PRE PROCESSING STEP: Savitzky Golay smoothing and 1st order Derivative\n",
      "Training R²    -0.0002543839693442962\n",
      "Validation R²  -0.0009061165923158754\n"
     ]
    }
   ],
   "source": [
    "#Trial 17 Savtizky Golay , 1st order Derivative\n",
    "#\n",
    "print(\"Trial 17\")\n",
    "print(\"PRE PROCESSING STEP: Savitzky Golay smoothing and 1st order Derivative\")\n",
    "#window length is 19 same as that for moving window smoothing\n",
    "preprocessed_spectra = pd.DataFrame(derivate_first(savitzky(input_array, 19), 19), columns=cols)\n",
    "#plotting_function(preprocessed_spectra, wave_length)\n",
    "#input to base line removal is a dataframe\n",
    "X_train, X_test, y_train, y_test = train_test_split(preprocessed_spectra, y, test_size=0.30, random_state=123) \n",
    "grid.fit(X_train, y_train)\n",
    "# print best parameter after tuning\n",
    "#print(\"Trial 16 : Best Parameters\", grid.best_params_)\n",
    "print(\"Training R\\u00b2   \", grid.score(X_train, y_train))\n",
    "print(\"Validation R\\u00b2 \",grid.score(X_test, y_test))\n",
    "result_df = result_df.append({'Trial No' : 'Trial 17','Model' : 'SVM',\n",
    "                              'Pre Processing': 'Savitzky Golay smoothing and 1st order Derivative', \n",
    "                              'Training R\\u00b2' : grid.score(X_train, y_train), \n",
    "                              'Validation R\\u00b2' : grid.score(X_test, y_test)}, \n",
    "                             ignore_index=True)"
   ]
  },
  {
   "cell_type": "code",
   "execution_count": 35,
   "metadata": {},
   "outputs": [
    {
     "name": "stdout",
     "output_type": "stream",
     "text": [
      "Trial 18\n",
      "PRE PROCESSING STEP: Savitzky Golay smoothing and 2nd order Derivative\n",
      "Training R²    -0.010074559283898665\n",
      "Validation R²  -0.00045641605116997225\n"
     ]
    }
   ],
   "source": [
    "#Trial 18 Savtizky Golay , 2nd order Derivative\n",
    "#\n",
    "print(\"Trial 18\")\n",
    "print(\"PRE PROCESSING STEP: Savitzky Golay smoothing and 2nd order Derivative\")\n",
    "#window length is 19 same as that for moving window smoothing\n",
    "preprocessed_spectra = pd.DataFrame(derivate_second(savitzky(input_array, 19), 19), columns=cols)\n",
    "#plotting_function(preprocessed_spectra, wave_length)\n",
    "#input to base line removal is a dataframe\n",
    "X_train, X_test, y_train, y_test = train_test_split(preprocessed_spectra, y, test_size=0.30, random_state=123) \n",
    "grid.fit(X_train, y_train)\n",
    "# print best parameter after tuning\n",
    "#print(\"Trial 16 : Best Parameters\", grid.best_params_)\n",
    "print(\"Training R\\u00b2   \", grid.score(X_train, y_train))\n",
    "print(\"Validation R\\u00b2 \",grid.score(X_test, y_test))\n",
    "result_df = result_df.append({'Trial No' : 'Trial 18','Model' : 'SVM',\n",
    "                              'Pre Processing': 'Savitzky Golay smoothing and 2nd order Derivative', \n",
    "                              'Training R\\u00b2' : grid.score(X_train, y_train), \n",
    "                              'Validation R\\u00b2' : grid.score(X_test, y_test)}, \n",
    "                             ignore_index=True)"
   ]
  },
  {
   "cell_type": "code",
   "execution_count": 36,
   "metadata": {},
   "outputs": [
    {
     "name": "stdout",
     "output_type": "stream",
     "text": [
      "Trial 19\n",
      "PRE PROCESSING STEP: Moving window , SNV and MSC\n",
      "Training R²  -0.01007455928389489\n",
      "Validation R²  -0.00045641605117463513\n"
     ]
    }
   ],
   "source": [
    "#Trial 19 Moving window , SNV and MSC\n",
    "#Input for derivative is an array\n",
    "print(\"Trial 19\")\n",
    "print(\"PRE PROCESSING STEP: Moving window , SNV and MSC\")\n",
    "#window length is 19 same as that for moving window smoothing\n",
    "preprocessed_spectra = pd.DataFrame(msc(SNV(smooth_fast(spectra, 19, cols))), columns=cols)\n",
    "#plotting_function(preprocessed_spectra, wave_length)\n",
    "#input to base line removal is a dataframe\n",
    "X_train, X_test, y_train, y_test = train_test_split(preprocessed_spectra, y, test_size=0.30, random_state=123) \n",
    "grid.fit(X_train, y_train)\n",
    "# print best parameter after tuning\n",
    "#print(\"Trial 19 : Best Parameters\", grid.best_params_)\n",
    "print(\"Training R\\u00b2 \", grid.score(X_train, y_train))\n",
    "print(\"Validation R\\u00b2 \",grid.score(X_test, y_test))\n",
    "result_df = result_df.append({'Trial No' : 'Trial 19','Model' : 'SVM',\n",
    "                              'Pre Processing': 'Moving window , SNV and MSC', \n",
    "                              'Training R\\u00b2' : grid.score(X_train, y_train), \n",
    "                              'Validation R\\u00b2' : grid.score(X_test, y_test)}, \n",
    "                             ignore_index=True)"
   ]
  },
  {
   "cell_type": "code",
   "execution_count": 37,
   "metadata": {},
   "outputs": [
    {
     "name": "stdout",
     "output_type": "stream",
     "text": [
      "Trial 20\n",
      "PRE PROCESSING STEP: Moving window , SNV and De-Trending\n",
      "Training R²  0.9756757322634553\n",
      "Validation R²  0.7745809759423785\n"
     ]
    }
   ],
   "source": [
    "#Trial 20 Moving window , SNV and De-Trending\n",
    "#Input for derivative is an array\n",
    "print(\"Trial 20\")\n",
    "print(\"PRE PROCESSING STEP: Moving window , SNV and De-Trending\")\n",
    "#window length is 19 same as that for moving window smoothing\n",
    "preprocessed_spectra = pd.DataFrame(baseline(SNV(smooth_fast(spectra, 19, cols)), wave_length), columns=cols)\n",
    "#plotting_function(preprocessed_spectra, wave_length)\n",
    "#input to base line removal is a dataframe\n",
    "X_train, X_test, y_train, y_test = train_test_split(preprocessed_spectra, y, test_size=0.30, random_state=123) \n",
    "grid.fit(X_train, y_train)\n",
    "# print best parameter after tuning\n",
    "#print(\"Trial 20 : Best Parameters\", grid.best_params_)\n",
    "print(\"Training R\\u00b2 \", grid.score(X_train, y_train))\n",
    "print(\"Validation R\\u00b2 \",grid.score(X_test, y_test))\n",
    "result_df = result_df.append({'Trial No' : 'Trial 20','Model' : 'SVM',\n",
    "                              'Pre Processing': 'Moving window , SNV and De-Trending', \n",
    "                              'Training R\\u00b2' : grid.score(X_train, y_train), \n",
    "                              'Validation R\\u00b2' : grid.score(X_test, y_test)}, \n",
    "                             ignore_index=True)"
   ]
  },
  {
   "cell_type": "code",
   "execution_count": 38,
   "metadata": {},
   "outputs": [
    {
     "name": "stdout",
     "output_type": "stream",
     "text": [
      "Trial 21\n",
      "PRE PROCESSING STEP: Moving window , SNV and 1st order Derivative\n",
      "Training R²  0.6996436062646788\n",
      "Validation R²  0.4312165602930851\n"
     ]
    }
   ],
   "source": [
    "#Trial 21 Moving window , SNV and 1st order Derivative\n",
    "#Input for derivative is an array\n",
    "print(\"Trial 21\")\n",
    "print(\"PRE PROCESSING STEP: Moving window , SNV and 1st order Derivative\")\n",
    "#window length is 19 same as that for moving window smoothing\n",
    "preprocessed_spectra = pd.DataFrame(derivate_first(SNV(smooth_fast(spectra, 19, cols)), 19), columns=cols)\n",
    "#plotting_function(preprocessed_spectra, wave_length)\n",
    "#input to base line removal is a dataframe\n",
    "X_train, X_test, y_train, y_test = train_test_split(preprocessed_spectra, y, test_size=0.30, random_state=123) \n",
    "grid.fit(X_train, y_train)\n",
    "# print best parameter after tuning\n",
    "#print(\"Trial 21 : Best Parameters\", grid.best_params_)\n",
    "print(\"Training R\\u00b2 \", grid.score(X_train, y_train))\n",
    "print(\"Validation R\\u00b2 \",grid.score(X_test, y_test))\n",
    "result_df = result_df.append({'Trial No' : 'Trial 21','Model' : 'SVM',\n",
    "                              'Pre Processing': 'Moving window , SNV and 1st order Derivative', \n",
    "                              'Training R\\u00b2' : grid.score(X_train, y_train), \n",
    "                              'Validation R\\u00b2' : grid.score(X_test, y_test)}, \n",
    "                             ignore_index=True)"
   ]
  },
  {
   "cell_type": "code",
   "execution_count": 39,
   "metadata": {},
   "outputs": [
    {
     "name": "stdout",
     "output_type": "stream",
     "text": [
      "Trial 22\n",
      "PRE PROCESSING STEP: Moving window , SNV and 2nd order Derivative\n",
      "Training R²  0.049340403829331254\n",
      "Validation R²  0.01830088623778625\n"
     ]
    }
   ],
   "source": [
    "#Trial 22 Moving window , SNV and 2nd order Derivative\n",
    "#Input for derivative is an array\n",
    "print(\"Trial 22\")\n",
    "print(\"PRE PROCESSING STEP: Moving window , SNV and 2nd order Derivative\")\n",
    "#window length is 19 same as that for moving window smoothing\n",
    "preprocessed_spectra = pd.DataFrame(derivate_second(SNV(smooth_fast(spectra, 19, cols)), 19), columns=cols)\n",
    "#plotting_function(preprocessed_spectra, wave_length)\n",
    "#input to base line removal is a dataframe\n",
    "X_train, X_test, y_train, y_test = train_test_split(preprocessed_spectra, y, test_size=0.30, random_state=123) \n",
    "grid.fit(X_train, y_train)\n",
    "# print best parameter after tuning\n",
    "#print(\"Trial 22 : Best Parameters\", grid.best_params_)\n",
    "print(\"Training R\\u00b2 \", grid.score(X_train, y_train))\n",
    "print(\"Validation R\\u00b2 \",grid.score(X_test, y_test))\n",
    "result_df = result_df.append({'Trial No' : 'Trial 22','Model' : 'SVM',\n",
    "                              'Pre Processing': 'Moving window , SNV and 2nd order Derivative', \n",
    "                              'Training R\\u00b2' : grid.score(X_train, y_train), \n",
    "                              'Validation R\\u00b2' : grid.score(X_test, y_test)}, \n",
    "                             ignore_index=True)"
   ]
  },
  {
   "cell_type": "code",
   "execution_count": 40,
   "metadata": {},
   "outputs": [
    {
     "name": "stdout",
     "output_type": "stream",
     "text": [
      "Trial 23\n",
      "PRE PROCESSING STEP: Moving window , MSC and De-Trending\n",
      "Training R²  0.08766658853688591\n",
      "Validation R²  0.07036373838345977\n"
     ]
    }
   ],
   "source": [
    "#Trial 23 Moving window , MSC and De-Trending\n",
    "#Input for derivative is an array\n",
    "print(\"Trial 23\")\n",
    "print(\"PRE PROCESSING STEP: Moving window , MSC and De-Trending\")\n",
    "#window length is 19 same as that for moving window smoothing\n",
    "preprocessed_spectra = pd.DataFrame(baseline(msc(smooth_fast(spectra, 19, cols)), wave_length), columns=cols)\n",
    "#plotting_function(preprocessed_spectra, wave_length)\n",
    "#input to base line removal is a dataframe\n",
    "X_train, X_test, y_train, y_test = train_test_split(preprocessed_spectra, y, test_size=0.30, random_state=123) \n",
    "grid.fit(X_train, y_train)\n",
    "# print best parameter after tuning\n",
    "#print(\"Trial 22 : Best Parameters\", grid.best_params_)\n",
    "print(\"Training R\\u00b2 \", grid.score(X_train, y_train))\n",
    "print(\"Validation R\\u00b2 \",grid.score(X_test, y_test))\n",
    "result_df = result_df.append({'Trial No' : 'Trial 23','Model' : 'SVM',\n",
    "                              'Pre Processing': 'Moving window , MSC and De-Trending', \n",
    "                              'Training R\\u00b2' : grid.score(X_train, y_train), \n",
    "                              'Validation R\\u00b2' : grid.score(X_test, y_test)}, \n",
    "                             ignore_index=True)"
   ]
  },
  {
   "cell_type": "code",
   "execution_count": 41,
   "metadata": {},
   "outputs": [
    {
     "name": "stdout",
     "output_type": "stream",
     "text": [
      "Trial 24\n",
      "PRE PROCESSING STEP: Moving window , SNV and 1st order Derivative\n",
      "Training R²  -0.004327636593923767\n",
      "Validation R²  -0.001169249709395137\n"
     ]
    }
   ],
   "source": [
    "#Trial 24 Moving window , SNV and 1st order Derivative\n",
    "#Input for derivative is an array\n",
    "print(\"Trial 24\")\n",
    "print(\"PRE PROCESSING STEP: Moving window , SNV and 1st order Derivative\")\n",
    "#window length is 19 same as that for moving window smoothing\n",
    "preprocessed_spectra = pd.DataFrame(derivate_first(msc(smooth_fast(spectra, 19, cols)), 19), columns=cols)\n",
    "#plotting_function(preprocessed_spectra, wave_length)\n",
    "#input to base line removal is a dataframe\n",
    "X_train, X_test, y_train, y_test = train_test_split(preprocessed_spectra, y, test_size=0.30, random_state=123) \n",
    "grid.fit(X_train, y_train)\n",
    "# print best parameter after tuning\n",
    "#print(\"Trial 21 : Best Parameters\", grid.best_params_)\n",
    "print(\"Training R\\u00b2 \", grid.score(X_train, y_train))\n",
    "print(\"Validation R\\u00b2 \",grid.score(X_test, y_test))\n",
    "result_df = result_df.append({'Trial No' : 'Trial 24','Model' : 'SVM',\n",
    "                              'Pre Processing': 'Moving window , MSC and 1st order Derivative', \n",
    "                              'Training R\\u00b2' : grid.score(X_train, y_train), \n",
    "                              'Validation R\\u00b2' : grid.score(X_test, y_test)}, \n",
    "                             ignore_index=True)"
   ]
  },
  {
   "cell_type": "code",
   "execution_count": 42,
   "metadata": {},
   "outputs": [
    {
     "name": "stdout",
     "output_type": "stream",
     "text": [
      "Trial 25\n",
      "PRE PROCESSING STEP: Moving window , MSC and 2nd order Derivative\n",
      "Training R²  -0.01007441883981297\n",
      "Validation R²  -0.0004563332622220529\n"
     ]
    }
   ],
   "source": [
    "#Trial 25 Moving window , MSC and 2nd order Derivative\n",
    "#Input for derivative is an array\n",
    "print(\"Trial 25\")\n",
    "print(\"PRE PROCESSING STEP: Moving window , MSC and 2nd order Derivative\")\n",
    "#window length is 19 same as that for moving window smoothing\n",
    "preprocessed_spectra = pd.DataFrame(derivate_second(msc(smooth_fast(spectra, 19, cols)), 19), columns=cols)\n",
    "#plotting_function(preprocessed_spectra, wave_length)\n",
    "#input to base line removal is a dataframe\n",
    "X_train, X_test, y_train, y_test = train_test_split(preprocessed_spectra, y, test_size=0.30, random_state=123) \n",
    "grid.fit(X_train, y_train)\n",
    "# print best parameter after tuning\n",
    "#print(\"Trial 25 : Best Parameters\", grid.best_params_)\n",
    "print(\"Training R\\u00b2 \", grid.score(X_train, y_train))\n",
    "print(\"Validation R\\u00b2 \",grid.score(X_test, y_test))\n",
    "result_df = result_df.append({'Trial No' : 'Trial 25','Model' : 'SVM',\n",
    "                              'Pre Processing': 'Moving window , MSC and 2nd order Derivative', \n",
    "                              'Training R\\u00b2' : grid.score(X_train, y_train), \n",
    "                              'Validation R\\u00b2' : grid.score(X_test, y_test)}, \n",
    "                             ignore_index=True)"
   ]
  },
  {
   "cell_type": "code",
   "execution_count": 43,
   "metadata": {},
   "outputs": [
    {
     "name": "stdout",
     "output_type": "stream",
     "text": [
      "Trial 26\n",
      "PRE PROCESSING STEP: Moving window , De-Trending and 1st order Derivative\n",
      "Training R²  -0.00823021898192322\n",
      "Validation R²  -0.007781219353901525\n"
     ]
    }
   ],
   "source": [
    "#Trial 26 Moving window , De-Trending and 1st order Derivative\n",
    "#Input for derivative is an array\n",
    "print(\"Trial 26\")\n",
    "print(\"PRE PROCESSING STEP: Moving window , De-Trending and 1st order Derivative\")\n",
    "#window length is 19 same as that for moving window smoothing\n",
    "preprocessed_spectra = pd.DataFrame(derivate_first(baseline(smooth_fast(spectra, 19, cols), wave_length), 19), columns=cols)\n",
    "#plotting_function(preprocessed_spectra, wave_length)\n",
    "#input to base line removal is a dataframe\n",
    "X_train, X_test, y_train, y_test = train_test_split(preprocessed_spectra, y, test_size=0.30, random_state=123) \n",
    "grid.fit(X_train, y_train)\n",
    "# print best parameter after tuning\n",
    "#print(\"Trial 26 : Best Parameters\", grid.best_params_)\n",
    "print(\"Training R\\u00b2 \", grid.score(X_train, y_train))\n",
    "print(\"Validation R\\u00b2 \",grid.score(X_test, y_test))\n",
    "result_df = result_df.append({'Trial No' : 'Trial 26','Model' : 'SVM',\n",
    "                              'Pre Processing': 'Moving window , De-Trending and 1st order Derivative', \n",
    "                              'Training R\\u00b2' : grid.score(X_train, y_train), \n",
    "                              'Validation R\\u00b2' : grid.score(X_test, y_test)}, \n",
    "                             ignore_index=True)"
   ]
  },
  {
   "cell_type": "code",
   "execution_count": 44,
   "metadata": {},
   "outputs": [
    {
     "name": "stdout",
     "output_type": "stream",
     "text": [
      "Trial 27\n",
      "PRE PROCESSING STEP: Moving window , De-Trending and 2nd order Derivative\n",
      "Training R²  -0.010074559283894446\n",
      "Validation R²  -0.0004564160511755233\n"
     ]
    }
   ],
   "source": [
    "#Trial 27 Moving window , De-Trending and 2nd order Derivative\n",
    "#Input for derivative is an array\n",
    "print(\"Trial 27\")\n",
    "print(\"PRE PROCESSING STEP: Moving window , De-Trending and 2nd order Derivative\")\n",
    "#window length is 19 same as that for moving window smoothing\n",
    "preprocessed_spectra = pd.DataFrame(derivate_second(baseline(smooth_fast(spectra, 19, cols), wave_length), 19), columns=cols)\n",
    "#plotting_function(preprocessed_spectra, wave_length)\n",
    "#input to base line removal is a dataframe\n",
    "X_train, X_test, y_train, y_test = train_test_split(preprocessed_spectra, y, test_size=0.30, random_state=123) \n",
    "grid.fit(X_train, y_train)\n",
    "# print best parameter after tuning\n",
    "#print(\"Trial 26 : Best Parameters\", grid.best_params_)\n",
    "print(\"Training R\\u00b2 \", grid.score(X_train, y_train))\n",
    "print(\"Validation R\\u00b2 \",grid.score(X_test, y_test))\n",
    "result_df = result_df.append({'Trial No' : 'Trial 27','Model' : 'SVM',\n",
    "                              'Pre Processing': 'Moving window , De-Trending and 2nd order Derivative', \n",
    "                              'Training R\\u00b2' : grid.score(X_train, y_train), \n",
    "                              'Validation R\\u00b2' : grid.score(X_test, y_test)}, \n",
    "                             ignore_index=True)"
   ]
  },
  {
   "cell_type": "code",
   "execution_count": 45,
   "metadata": {},
   "outputs": [
    {
     "name": "stdout",
     "output_type": "stream",
     "text": [
      "Trial 28\n",
      "PRE PROCESSING STEP: Moving window , 1st order Derivative and 2nd order Derivative\n",
      "Training R²  -0.01007455928389489\n",
      "Validation R²  -0.00045641605117463513\n"
     ]
    }
   ],
   "source": [
    "#Trial 28 Moving window , 1st order Derivative and 2nd order Derivative\n",
    "#Input for derivative is an array\n",
    "print(\"Trial 28\")\n",
    "print(\"PRE PROCESSING STEP: Moving window , 1st order Derivative and 2nd order Derivative\")\n",
    "#window length is 19 same as that for moving window smoothing\n",
    "preprocessed_spectra = pd.DataFrame(derivate_second(derivate_first(smooth_fast(spectra, 19, cols), 19), 19), columns=cols)\n",
    "#plotting_function(preprocessed_spectra, wave_length)\n",
    "#input to base line removal is a dataframe\n",
    "X_train, X_test, y_train, y_test = train_test_split(preprocessed_spectra, y, test_size=0.30, random_state=123) \n",
    "grid.fit(X_train, y_train)\n",
    "# print best parameter after tuning\n",
    "#print(\"Trial 26 : Best Parameters\", grid.best_params_)\n",
    "print(\"Training R\\u00b2 \", grid.score(X_train, y_train))\n",
    "print(\"Validation R\\u00b2 \",grid.score(X_test, y_test))\n",
    "result_df = result_df.append({'Trial No' : 'Trial 28','Model' : 'SVM',\n",
    "                              'Pre Processing': 'Moving window , 1st order Derivative and 2nd order Derivative', \n",
    "                              'Training R\\u00b2' : grid.score(X_train, y_train), \n",
    "                              'Validation R\\u00b2' : grid.score(X_test, y_test)}, \n",
    "                             ignore_index=True)"
   ]
  },
  {
   "cell_type": "code",
   "execution_count": 46,
   "metadata": {},
   "outputs": [
    {
     "name": "stdout",
     "output_type": "stream",
     "text": [
      "Trial 29\n",
      "PRE PROCESSING STEP: Savitzky Golay smoothing, SNV and MSC\n",
      "Training R²    -0.01007455928376344\n",
      "Validation R²  -0.00045641605114488115\n"
     ]
    }
   ],
   "source": [
    "#Trial 29 Savtizky Golay , SNV and MSC\n",
    "print(\"Trial 29\")\n",
    "print(\"PRE PROCESSING STEP: Savitzky Golay smoothing, SNV and MSC\")\n",
    "#window length is 19 same as that for moving window smoothing\n",
    "preprocessed_spectra = pd.DataFrame(msc(SNV(savitzky(input_array, 19))), columns=cols)\n",
    "#plotting_function(preprocessed_spectra, wave_length)\n",
    "#input to base line removal is a dataframe\n",
    "X_train, X_test, y_train, y_test = train_test_split(preprocessed_spectra, y, test_size=0.30, random_state=123) \n",
    "grid.fit(X_train, y_train)\n",
    "# print best parameter after tuning\n",
    "#print(\"Trial 29 : Best Parameters\", grid.best_params_)\n",
    "print(\"Training R\\u00b2   \", grid.score(X_train, y_train))\n",
    "print(\"Validation R\\u00b2 \",grid.score(X_test, y_test))\n",
    "result_df = result_df.append({'Trial No' : 'Trial 29','Model' : 'SVM',\n",
    "                              'Pre Processing': 'Savitzky Golay smoothing, SNV and MSC', \n",
    "                              'Training R\\u00b2' : grid.score(X_train, y_train), \n",
    "                              'Validation R\\u00b2' : grid.score(X_test, y_test)}, \n",
    "                             ignore_index=True)"
   ]
  },
  {
   "cell_type": "code",
   "execution_count": 47,
   "metadata": {},
   "outputs": [
    {
     "name": "stdout",
     "output_type": "stream",
     "text": [
      "Trial 30\n",
      "PRE PROCESSING STEP: Savitzky Golay smoothing, SNV and De-Trending\n",
      "Training R²    0.9955513982602855\n",
      "Validation R²  0.8028321425892481\n"
     ]
    }
   ],
   "source": [
    "#Trial 30 Savtizky Golay , SNV and Baseline\n",
    "print(\"Trial 30\")\n",
    "print(\"PRE PROCESSING STEP: Savitzky Golay smoothing, SNV and De-Trending\")\n",
    "#window length is 19 same as that for moving window smoothing\n",
    "preprocessed_spectra = pd.DataFrame(baseline(SNV(savitzky(input_array, 19)), wave_length), columns=cols)\n",
    "#plotting_function(preprocessed_spectra, wave_length)\n",
    "#input to base line removal is a dataframe\n",
    "X_train, X_test, y_train, y_test = train_test_split(preprocessed_spectra, y, test_size=0.30, random_state=123) \n",
    "grid.fit(X_train, y_train)\n",
    "# print best parameter after tuning\n",
    "#print(\"Trial 23 : Best Parameters\", grid.best_params_)\n",
    "print(\"Training R\\u00b2   \", grid.score(X_train, y_train))\n",
    "print(\"Validation R\\u00b2 \",grid.score(X_test, y_test))\n",
    "result_df = result_df.append({'Trial No' : 'Trial 30','Model' : 'SVM',\n",
    "                              'Pre Processing': 'Savitzky Golay smoothing, SNV and De-Trending', \n",
    "                              'Training R\\u00b2' : grid.score(X_train, y_train), \n",
    "                              'Validation R\\u00b2' : grid.score(X_test, y_test)}, \n",
    "                             ignore_index=True)"
   ]
  },
  {
   "cell_type": "code",
   "execution_count": 48,
   "metadata": {},
   "outputs": [
    {
     "name": "stdout",
     "output_type": "stream",
     "text": [
      "Trial 31\n",
      "PRE PROCESSING STEP: Savitzky Golay smoothing, SNV and 1st order Derivative\n",
      "Training R²    0.8996069447464506\n",
      "Validation R²  0.4910175249819891\n"
     ]
    }
   ],
   "source": [
    "#Trial 31 Savtizky Golay , SNV and 1st order Derivative\n",
    "print(\"Trial 31\")\n",
    "print(\"PRE PROCESSING STEP: Savitzky Golay smoothing, SNV and 1st order Derivative\")\n",
    "#window length is 19 same as that for moving window smoothing\n",
    "preprocessed_spectra = pd.DataFrame(derivate_first(SNV(savitzky(input_array, 19)), 19), columns=cols)\n",
    "#plotting_function(preprocessed_spectra, wave_length)\n",
    "#input to base line removal is a dataframe\n",
    "X_train, X_test, y_train, y_test = train_test_split(preprocessed_spectra, y, test_size=0.30, random_state=123) \n",
    "grid.fit(X_train, y_train)\n",
    "# print best parameter after tuning\n",
    "#print(\"Trial 31 : Best Parameters\", grid.best_params_)\n",
    "print(\"Training R\\u00b2   \", grid.score(X_train, y_train))\n",
    "print(\"Validation R\\u00b2 \",grid.score(X_test, y_test))\n",
    "result_df = result_df.append({'Trial No' : 'Trial 31','Model' : 'SVM',\n",
    "                              'Pre Processing': 'Savitzky Golay smoothing, SNV and 1st order Derivative', \n",
    "                              'Training R\\u00b2' : grid.score(X_train, y_train), \n",
    "                              'Validation R\\u00b2' : grid.score(X_test, y_test)}, \n",
    "                             ignore_index=True)"
   ]
  },
  {
   "cell_type": "code",
   "execution_count": 49,
   "metadata": {},
   "outputs": [
    {
     "name": "stdout",
     "output_type": "stream",
     "text": [
      "Trial 32\n",
      "PRE PROCESSING STEP: Savitzky Golay smoothing, SNV and 2nd order Derivative\n",
      "Training R²    0.06098335421007572\n",
      "Validation R²  0.031347672589891906\n"
     ]
    }
   ],
   "source": [
    "#Trial 32 Savtizky Golay , SNV and 2nd order Derivative\n",
    "print(\"Trial 32\")\n",
    "print(\"PRE PROCESSING STEP: Savitzky Golay smoothing, SNV and 2nd order Derivative\")\n",
    "#window length is 19 same as that for moving window smoothing\n",
    "preprocessed_spectra = pd.DataFrame(derivate_second(SNV(savitzky(input_array, 19)), 19), columns=cols)\n",
    "#plotting_function(preprocessed_spectra, wave_length)\n",
    "#input to base line removal is a dataframe\n",
    "X_train, X_test, y_train, y_test = train_test_split(preprocessed_spectra, y, test_size=0.30, random_state=123) \n",
    "grid.fit(X_train, y_train)\n",
    "# print best parameter after tuning\n",
    "#print(\"Trial 32 : Best Parameters\", grid.best_params_)\n",
    "print(\"Training R\\u00b2   \", grid.score(X_train, y_train))\n",
    "print(\"Validation R\\u00b2 \",grid.score(X_test, y_test))\n",
    "result_df = result_df.append({'Trial No' : 'Trial 32','Model' : 'SVM',\n",
    "                              'Pre Processing': 'Savitzky Golay smoothing, SNV and 2nd order Derivative', \n",
    "                              'Training R\\u00b2' : grid.score(X_train, y_train), \n",
    "                              'Validation R\\u00b2' : grid.score(X_test, y_test)}, \n",
    "                             ignore_index=True)"
   ]
  },
  {
   "cell_type": "code",
   "execution_count": 50,
   "metadata": {},
   "outputs": [
    {
     "name": "stdout",
     "output_type": "stream",
     "text": [
      "Trial 33\n",
      "PRE PROCESSING STEP: Savitzky Golay smoothing, MSC and De-Trending\n",
      "Training R²    0.05053033991036837\n",
      "Validation R²  0.03934683122283522\n"
     ]
    }
   ],
   "source": [
    "#Trial 33 Savtizky Golay , MSC and De-Trending\n",
    "print(\"Trial 33\")\n",
    "print(\"PRE PROCESSING STEP: Savitzky Golay smoothing, MSC and De-Trending\")\n",
    "#window length is 19 same as that for moving window smoothing\n",
    "preprocessed_spectra = pd.DataFrame(baseline(msc(savitzky(input_array, 19)), wave_length), columns=cols)\n",
    "#plotting_function(preprocessed_spectra, wave_length)\n",
    "#input to base line removal is a dataframe\n",
    "X_train, X_test, y_train, y_test = train_test_split(preprocessed_spectra, y, test_size=0.30, random_state=123) \n",
    "grid.fit(X_train, y_train)\n",
    "# print best parameter after tuning\n",
    "#print(\"Trial 32 : Best Parameters\", grid.best_params_)\n",
    "print(\"Training R\\u00b2   \", grid.score(X_train, y_train))\n",
    "print(\"Validation R\\u00b2 \",grid.score(X_test, y_test))\n",
    "result_df = result_df.append({'Trial No' : 'Trial 33','Model' : 'SVM',\n",
    "                              'Pre Processing': 'Savitzky Golay smoothing, MSC and De-Trending', \n",
    "                              'Training R\\u00b2' : grid.score(X_train, y_train), \n",
    "                              'Validation R\\u00b2' : grid.score(X_test, y_test)}, \n",
    "                             ignore_index=True)"
   ]
  },
  {
   "cell_type": "code",
   "execution_count": 51,
   "metadata": {},
   "outputs": [
    {
     "name": "stdout",
     "output_type": "stream",
     "text": [
      "Trial 34\n",
      "PRE PROCESSING STEP: Savitzky Golay smoothing, MSC and 1st order Derivative\n",
      "Training R²    0.0024678311445774925\n",
      "Validation R²  0.0003162193888998077\n"
     ]
    }
   ],
   "source": [
    "#Trial 34 Savtizky Golay , SNV and 1st order Derivative\n",
    "print(\"Trial 34\")\n",
    "print(\"PRE PROCESSING STEP: Savitzky Golay smoothing, MSC and 1st order Derivative\")\n",
    "#window length is 19 same as that for moving window smoothing\n",
    "preprocessed_spectra = pd.DataFrame(derivate_first(msc(savitzky(input_array, 19)), 19), columns=cols)\n",
    "#plotting_function(preprocessed_spectra, wave_length)\n",
    "#input to base line removal is a dataframe\n",
    "X_train, X_test, y_train, y_test = train_test_split(preprocessed_spectra, y, test_size=0.30, random_state=123) \n",
    "grid.fit(X_train, y_train)\n",
    "# print best parameter after tuning\n",
    "#print(\"Trial 34 : Best Parameters\", grid.best_params_)\n",
    "print(\"Training R\\u00b2   \", grid.score(X_train, y_train))\n",
    "print(\"Validation R\\u00b2 \",grid.score(X_test, y_test))\n",
    "result_df = result_df.append({'Trial No' : 'Trial 34','Model' : 'SVM',\n",
    "                              'Pre Processing': 'Savitzky Golay smoothing, MSC and 1st order Derivative', \n",
    "                              'Training R\\u00b2' : grid.score(X_train, y_train), \n",
    "                              'Validation R\\u00b2' : grid.score(X_test, y_test)}, \n",
    "                             ignore_index=True)"
   ]
  },
  {
   "cell_type": "code",
   "execution_count": 52,
   "metadata": {},
   "outputs": [
    {
     "name": "stdout",
     "output_type": "stream",
     "text": [
      "Trial 35\n",
      "PRE PROCESSING STEP: Savitzky Golay smoothing, MSC and 2nd order Derivative\n",
      "Training R²    -0.010074559283901108\n",
      "Validation R²  -0.0004564160511724147\n"
     ]
    }
   ],
   "source": [
    "#Trial 35 Savtizky Golay , SNV and 2nd order Derivative\n",
    "print(\"Trial 35\")\n",
    "print(\"PRE PROCESSING STEP: Savitzky Golay smoothing, MSC and 2nd order Derivative\")\n",
    "#window length is 19 same as that for moving window smoothing\n",
    "preprocessed_spectra = pd.DataFrame(derivate_second(msc(savitzky(input_array, 19)), 19), columns=cols)\n",
    "#plotting_function(preprocessed_spectra, wave_length)\n",
    "#input to base line removal is a dataframe\n",
    "X_train, X_test, y_train, y_test = train_test_split(preprocessed_spectra, y, test_size=0.30, random_state=123) \n",
    "grid.fit(X_train, y_train)\n",
    "# print best parameter after tuning\n",
    "#print(\"Trial 34 : Best Parameters\", grid.best_params_)\n",
    "print(\"Training R\\u00b2   \", grid.score(X_train, y_train))\n",
    "print(\"Validation R\\u00b2 \",grid.score(X_test, y_test))\n",
    "result_df = result_df.append({'Trial No' : 'Trial 35','Model' : 'SVM',\n",
    "                              'Pre Processing': 'Savitzky Golay smoothing, MSC and 2nd order Derivative', \n",
    "                              'Training R\\u00b2' : grid.score(X_train, y_train), \n",
    "                              'Validation R\\u00b2' : grid.score(X_test, y_test)}, \n",
    "                             ignore_index=True)"
   ]
  },
  {
   "cell_type": "code",
   "execution_count": 53,
   "metadata": {},
   "outputs": [
    {
     "name": "stdout",
     "output_type": "stream",
     "text": [
      "Trial 36\n",
      "PRE PROCESSING STEP: Savitzky Golay smoothing, De-Trending and 1st order Derivative\n",
      "Training R²    0.002128415382883775\n",
      "Validation R²  0.0012836028263114585\n"
     ]
    }
   ],
   "source": [
    "#Trial 36 Savtizky Golay , De-Trending and 1st order Derivative\n",
    "print(\"Trial 36\")\n",
    "print(\"PRE PROCESSING STEP: Savitzky Golay smoothing, De-Trending and 1st order Derivative\")\n",
    "#window length is 19 same as that for moving window smoothing\n",
    "preprocessed_spectra = pd.DataFrame(derivate_first(baseline(savitzky(input_array, 19), wave_length), 19), columns=cols)\n",
    "#plotting_function(preprocessed_spectra, wave_length)\n",
    "#input to base line removal is a dataframe\n",
    "X_train, X_test, y_train, y_test = train_test_split(preprocessed_spectra, y, test_size=0.30, random_state=123) \n",
    "grid.fit(X_train, y_train)\n",
    "# print best parameter after tuning\n",
    "#print(\"Trial 34 : Best Parameters\", grid.best_params_)\n",
    "print(\"Training R\\u00b2   \", grid.score(X_train, y_train))\n",
    "print(\"Validation R\\u00b2 \",grid.score(X_test, y_test))\n",
    "result_df = result_df.append({'Trial No' : 'Trial 36','Model' : 'SVM',\n",
    "                              'Pre Processing': 'Savitzky Golay smoothing, MSC and 1st order Derivative', \n",
    "                              'Training R\\u00b2' : grid.score(X_train, y_train), \n",
    "                              'Validation R\\u00b2' : grid.score(X_test, y_test)}, \n",
    "                             ignore_index=True)"
   ]
  },
  {
   "cell_type": "code",
   "execution_count": 54,
   "metadata": {},
   "outputs": [
    {
     "name": "stdout",
     "output_type": "stream",
     "text": [
      "Trial 37\n",
      "PRE PROCESSING STEP: Savitzky Golay smoothing, De-Trending and 2nd order Derivative\n",
      "Training R²    -0.010074559283898665\n",
      "Validation R²  -0.00045641605116997225\n"
     ]
    }
   ],
   "source": [
    "#Trial 37 Savtizky Golay , De-Trending and 1st order Derivative\n",
    "print(\"Trial 37\")\n",
    "print(\"PRE PROCESSING STEP: Savitzky Golay smoothing, De-Trending and 2nd order Derivative\")\n",
    "#window length is 19 same as that for moving window smoothing\n",
    "preprocessed_spectra = pd.DataFrame(derivate_second(baseline(savitzky(input_array, 19), wave_length), 19), columns=cols)\n",
    "#plotting_function(preprocessed_spectra, wave_length)\n",
    "#input to base line removal is a dataframe\n",
    "X_train, X_test, y_train, y_test = train_test_split(preprocessed_spectra, y, test_size=0.30, random_state=123) \n",
    "grid.fit(X_train, y_train)\n",
    "# print best parameter after tuning\n",
    "#print(\"Trial 34 : Best Parameters\", grid.best_params_)\n",
    "print(\"Training R\\u00b2   \", grid.score(X_train, y_train))\n",
    "print(\"Validation R\\u00b2 \",grid.score(X_test, y_test))\n",
    "result_df = result_df.append({'Trial No' : 'Trial 37','Model' : 'SVM',\n",
    "                              'Pre Processing': 'Savitzky Golay smoothing, MSC and 2nd order Derivative', \n",
    "                              'Training R\\u00b2' : grid.score(X_train, y_train), \n",
    "                              'Validation R\\u00b2' : grid.score(X_test, y_test)}, \n",
    "                             ignore_index=True)"
   ]
  },
  {
   "cell_type": "code",
   "execution_count": 55,
   "metadata": {},
   "outputs": [
    {
     "name": "stdout",
     "output_type": "stream",
     "text": [
      "Trial 38\n",
      "PRE PROCESSING STEP: Moving window , SNV, De-Trending and MSC\n",
      "Training R²  -0.01007455928389489\n",
      "Validation R²  -0.00045641605117463513\n"
     ]
    }
   ],
   "source": [
    "#Trial 38 Moving window , SNV and De-Trending, MSC\n",
    "#Input for derivative is an array\n",
    "print(\"Trial 38\")\n",
    "print(\"PRE PROCESSING STEP: Moving window , SNV, De-Trending and MSC\")\n",
    "#window length is 19 same as that for moving window smoothing\n",
    "preprocessed_spectra = pd.DataFrame(msc(baseline(SNV(smooth_fast(spectra, 19, cols)), wave_length)), columns=cols)\n",
    "#plotting_function(preprocessed_spectra, wave_length)\n",
    "#input to base line removal is a dataframe\n",
    "X_train, X_test, y_train, y_test = train_test_split(preprocessed_spectra, y, test_size=0.30, random_state=123) \n",
    "grid.fit(X_train, y_train)\n",
    "# print best parameter after tuning\n",
    "#print(\"Trial 38 : Best Parameters\", grid.best_params_)\n",
    "print(\"Training R\\u00b2 \", grid.score(X_train, y_train))\n",
    "print(\"Validation R\\u00b2 \",grid.score(X_test, y_test))\n",
    "result_df = result_df.append({'Trial No' : 'Trial 38','Model' : 'SVM',\n",
    "                              'Pre Processing': 'Moving window , SNV, De-Trending and MSC', \n",
    "                              'Training R\\u00b2' : grid.score(X_train, y_train), \n",
    "                              'Validation R\\u00b2' : grid.score(X_test, y_test)}, \n",
    "                             ignore_index=True)"
   ]
  },
  {
   "cell_type": "code",
   "execution_count": 56,
   "metadata": {},
   "outputs": [
    {
     "name": "stdout",
     "output_type": "stream",
     "text": [
      "Trial 39\n",
      "PRE PROCESSING STEP: Moving window , SNV, MSC and 1st order Derivative\n",
      "Training R²  0.9370597183016669\n",
      "Validation R²  0.38724444509282685\n"
     ]
    }
   ],
   "source": [
    "#Trial 39 Moving window , SNV, MSC and 1st order Derivative\n",
    "#Input for derivative is an array\n",
    "print(\"Trial 39\")\n",
    "print(\"PRE PROCESSING STEP: Moving window , SNV, MSC and 1st order Derivative\")\n",
    "#window length is 19 same as that for moving window smoothing\n",
    "preprocessed_spectra = pd.DataFrame(derivate_first(msc(SNV(smooth_fast(spectra, 19, cols)), wave_length), 19), columns=cols)\n",
    "#plotting_function(preprocessed_spectra, wave_length)\n",
    "#input to base line removal is a dataframe\n",
    "X_train, X_test, y_train, y_test = train_test_split(preprocessed_spectra, y, test_size=0.30, random_state=123) \n",
    "grid.fit(X_train, y_train)\n",
    "# print best parameter after tuning\n",
    "#print(\"Trial 38 : Best Parameters\", grid.best_params_)\n",
    "print(\"Training R\\u00b2 \", grid.score(X_train, y_train))\n",
    "print(\"Validation R\\u00b2 \",grid.score(X_test, y_test))\n",
    "result_df = result_df.append({'Trial No' : 'Trial 39','Model' : 'SVM',\n",
    "                              'Pre Processing': 'Moving window, SNV, MSC and 1st order Derivative', \n",
    "                              'Training R\\u00b2' : grid.score(X_train, y_train), \n",
    "                              'Validation R\\u00b2' : grid.score(X_test, y_test)}, \n",
    "                             ignore_index=True)"
   ]
  },
  {
   "cell_type": "code",
   "execution_count": 57,
   "metadata": {},
   "outputs": [
    {
     "name": "stdout",
     "output_type": "stream",
     "text": [
      "Trial 40\n",
      "PRE PROCESSING STEP: Moving window , SNV, MSC and 2nd order Derivative\n",
      "Training R²  -0.01007455928389489\n",
      "Validation R²  -0.00045641605117463513\n"
     ]
    }
   ],
   "source": [
    "#Trial 40 Moving window , SNV, MSC and 2nd order Derivative\n",
    "#Input for derivative is an array\n",
    "print(\"Trial 40\")\n",
    "print(\"PRE PROCESSING STEP: Moving window , SNV, MSC and 2nd order Derivative\")\n",
    "#window length is 19 same as that for moving window smoothing\n",
    "preprocessed_spectra = pd.DataFrame(derivate_second(msc(SNV(smooth_fast(spectra, 19, cols))), 19), columns=cols)\n",
    "#plotting_function(preprocessed_spectra, wave_length)\n",
    "#input to base line removal is a dataframe\n",
    "X_train, X_test, y_train, y_test = train_test_split(preprocessed_spectra, y, test_size=0.30, random_state=123) \n",
    "grid.fit(X_train, y_train)\n",
    "# print best parameter after tuning\n",
    "#print(\"Trial 40 : Best Parameters\", grid.best_params_)\n",
    "print(\"Training R\\u00b2 \", grid.score(X_train, y_train))\n",
    "print(\"Validation R\\u00b2 \",grid.score(X_test, y_test))\n",
    "result_df = result_df.append({'Trial No' : 'Trial 40','Model' : 'SVM',\n",
    "                              'Pre Processing': 'Moving window, SNV, MSC and 2nd order Derivative', \n",
    "                              'Training R\\u00b2' : grid.score(X_train, y_train), \n",
    "                              'Validation R\\u00b2' : grid.score(X_test, y_test)}, \n",
    "                             ignore_index=True)"
   ]
  },
  {
   "cell_type": "code",
   "execution_count": 58,
   "metadata": {},
   "outputs": [
    {
     "name": "stdout",
     "output_type": "stream",
     "text": [
      "Trial 41\n",
      "PRE PROCESSING STEP: Moving window, SNV, De-Trending and 1st order Derivative\n",
      "Training R²  0.6950149888639038\n",
      "Validation R²  0.42244322894304964\n"
     ]
    }
   ],
   "source": [
    "#Trial 41 Moving window, SNV, De-Trending and 1st order Derivative\n",
    "#Input for derivative is an array\n",
    "print(\"Trial 41\")\n",
    "print(\"PRE PROCESSING STEP: Moving window, SNV, De-Trending and 1st order Derivative\")\n",
    "#window length is 19 same as that for moving window smoothing\n",
    "preprocessed_spectra = pd.DataFrame(derivate_first(baseline(SNV(smooth_fast(spectra, 19, cols)), wave_length), 19), columns=cols)\n",
    "#plotting_function(preprocessed_spectra, wave_length)\n",
    "#input to base line removal is a dataframe\n",
    "X_train, X_test, y_train, y_test = train_test_split(preprocessed_spectra, y, test_size=0.30, random_state=123) \n",
    "grid.fit(X_train, y_train)\n",
    "# print best parameter after tuning\n",
    "#print(\"Trial 41 : Best Parameters\", grid.best_params_)\n",
    "print(\"Training R\\u00b2 \", grid.score(X_train, y_train))\n",
    "print(\"Validation R\\u00b2 \",grid.score(X_test, y_test))\n",
    "result_df = result_df.append({'Trial No' : 'Trial 41','Model' : 'SVM',\n",
    "                              'Pre Processing': 'Moving window, SNV, De-Trending and 1st order Derivative', \n",
    "                              'Training R\\u00b2' : grid.score(X_train, y_train), \n",
    "                              'Validation R\\u00b2' : grid.score(X_test, y_test)}, \n",
    "                             ignore_index=True)"
   ]
  },
  {
   "cell_type": "code",
   "execution_count": 59,
   "metadata": {},
   "outputs": [
    {
     "name": "stdout",
     "output_type": "stream",
     "text": [
      "Trial 42\n",
      "PRE PROCESSING STEP: Moving window, SNV, De-Trending and 2nd order Derivative\n",
      "Training R²  0.049340403829331574\n",
      "Validation R²  0.01830088623778625\n"
     ]
    }
   ],
   "source": [
    "#Trial 42 Moving window, SNV, De-Trending and 2nd order Derivative\n",
    "#Input for derivative is an array\n",
    "print(\"Trial 42\")\n",
    "print(\"PRE PROCESSING STEP: Moving window, SNV, De-Trending and 2nd order Derivative\")\n",
    "#window length is 19 same as that for moving window smoothing\n",
    "preprocessed_spectra = pd.DataFrame(derivate_second(baseline(SNV(smooth_fast(spectra, 19, cols)), wave_length), 19), columns=cols)\n",
    "#plotting_function(preprocessed_spectra, wave_length)\n",
    "#input to base line removal is a dataframe\n",
    "X_train, X_test, y_train, y_test = train_test_split(preprocessed_spectra, y, test_size=0.30, random_state=123) \n",
    "grid.fit(X_train, y_train)\n",
    "# print best parameter after tuning\n",
    "#print(\"Trial 42 : Best Parameters\", grid.best_params_)\n",
    "print(\"Training R\\u00b2 \", grid.score(X_train, y_train))\n",
    "print(\"Validation R\\u00b2 \",grid.score(X_test, y_test))\n",
    "result_df = result_df.append({'Trial No' : 'Trial 42','Model' : 'SVM',\n",
    "                              'Pre Processing': 'Moving window, SNV, De-Trending and 2nd order Derivative', \n",
    "                              'Training R\\u00b2' : grid.score(X_train, y_train), \n",
    "                              'Validation R\\u00b2' : grid.score(X_test, y_test)}, \n",
    "                             ignore_index=True)"
   ]
  },
  {
   "cell_type": "code",
   "execution_count": 60,
   "metadata": {},
   "outputs": [
    {
     "name": "stdout",
     "output_type": "stream",
     "text": [
      "Trial 43\n",
      "PRE PROCESSING STEP: Moving window, MSC, De-Trending and 1st order Derivative\n",
      "Training R²  -0.004038523571543662\n",
      "Validation R²  -0.0013248935783458649\n"
     ]
    }
   ],
   "source": [
    "#Trial 43 Moving window, MSC, De-Trending and 1st order Derivative\n",
    "#Input for derivative is an array\n",
    "print(\"Trial 43\")\n",
    "print(\"PRE PROCESSING STEP: Moving window, MSC, De-Trending and 1st order Derivative\")\n",
    "#window length is 19 same as that for moving window smoothing\n",
    "preprocessed_spectra = pd.DataFrame(derivate_first(baseline(msc(smooth_fast(spectra, 19, cols)), wave_length), 19), columns=cols)\n",
    "#plotting_function(preprocessed_spectra, wave_length)\n",
    "#input to base line removal is a dataframe\n",
    "X_train, X_test, y_train, y_test = train_test_split(preprocessed_spectra, y, test_size=0.30, random_state=123) \n",
    "grid.fit(X_train, y_train)\n",
    "# print best parameter after tuning\n",
    "#print(\"Trial 43 : Best Parameters\", grid.best_params_)\n",
    "print(\"Training R\\u00b2 \", grid.score(X_train, y_train))\n",
    "print(\"Validation R\\u00b2 \",grid.score(X_test, y_test))\n",
    "result_df = result_df.append({'Trial No' : 'Trial 43','Model' : 'SVM',\n",
    "                              'Pre Processing': 'Moving window, MSC, De-Trending and 1st order Derivative', \n",
    "                              'Training R\\u00b2' : grid.score(X_train, y_train), \n",
    "                              'Validation R\\u00b2' : grid.score(X_test, y_test)}, \n",
    "                             ignore_index=True)"
   ]
  },
  {
   "cell_type": "code",
   "execution_count": 61,
   "metadata": {},
   "outputs": [
    {
     "name": "stdout",
     "output_type": "stream",
     "text": [
      "Trial 44\n",
      "PRE PROCESSING STEP: Moving window, MSC, De-Trending and 2nd order Derivative\n",
      "Training R²  -0.01007441883981297\n",
      "Validation R²  -0.0004563332622220529\n"
     ]
    }
   ],
   "source": [
    "#Trial 44 Moving window, MSC, De-Trending and 2nd order Derivative\n",
    "#Input for derivative is an array\n",
    "print(\"Trial 44\")\n",
    "print(\"PRE PROCESSING STEP: Moving window, MSC, De-Trending and 2nd order Derivative\")\n",
    "#window length is 19 same as that for moving window smoothing\n",
    "preprocessed_spectra = pd.DataFrame(derivate_second(baseline(msc(smooth_fast(spectra, 19, cols)), wave_length), 19), columns=cols)\n",
    "#plotting_function(preprocessed_spectra, wave_length)\n",
    "#input to base line removal is a dataframe\n",
    "X_train, X_test, y_train, y_test = train_test_split(preprocessed_spectra, y, test_size=0.30, random_state=123) \n",
    "grid.fit(X_train, y_train)\n",
    "# print best parameter after tuning\n",
    "#print(\"Trial 43 : Best Parameters\", grid.best_params_)\n",
    "print(\"Training R\\u00b2 \", grid.score(X_train, y_train))\n",
    "print(\"Validation R\\u00b2 \",grid.score(X_test, y_test))\n",
    "result_df = result_df.append({'Trial No' : 'Trial 44','Model' : 'SVM',\n",
    "                              'Pre Processing': 'Moving window, MSC, De-Trending and 2nd order Derivative', \n",
    "                              'Training R\\u00b2' : grid.score(X_train, y_train), \n",
    "                              'Validation R\\u00b2' : grid.score(X_test, y_test)}, \n",
    "                             ignore_index=True)"
   ]
  },
  {
   "cell_type": "code",
   "execution_count": 62,
   "metadata": {},
   "outputs": [
    {
     "name": "stdout",
     "output_type": "stream",
     "text": [
      "Trial 45\n",
      "PRE PROCESSING STEP: Savitzky Golay, SNV, De-Trending and MSC\n",
      "Training R²  -0.01007455928389489\n",
      "Validation R²  -0.00045641605117463513\n"
     ]
    }
   ],
   "source": [
    "#Trial 45 Savitzky Golay, SNV and De-Trending, MSC\n",
    "#Input for derivative is an array\n",
    "print(\"Trial 45\")\n",
    "print(\"PRE PROCESSING STEP: Savitzky Golay, SNV, De-Trending and MSC\")\n",
    "#window length is 19 same as that for moving window smoothing\n",
    "preprocessed_spectra = pd.DataFrame(msc(baseline(SNV(savitzky(spectra, 19)), wave_length)), columns=cols)\n",
    "#plotting_function(preprocessed_spectra, wave_length)\n",
    "#input to base line removal is a dataframe\n",
    "X_train, X_test, y_train, y_test = train_test_split(preprocessed_spectra, y, test_size=0.30, random_state=123) \n",
    "grid.fit(X_train, y_train)\n",
    "# print best parameter after tuning\n",
    "#print(\"Trial 45 : Best Parameters\", grid.best_params_)\n",
    "print(\"Training R\\u00b2 \", grid.score(X_train, y_train))\n",
    "print(\"Validation R\\u00b2 \",grid.score(X_test, y_test))\n",
    "result_df = result_df.append({'Trial No' : 'Trial 45','Model' : 'SVM',\n",
    "                              'Pre Processing': 'Savitzky Golay, SNV, De-Trending and MSC', \n",
    "                              'Training R\\u00b2' : grid.score(X_train, y_train), \n",
    "                              'Validation R\\u00b2' : grid.score(X_test, y_test)}, \n",
    "                             ignore_index=True)"
   ]
  },
  {
   "cell_type": "code",
   "execution_count": 63,
   "metadata": {},
   "outputs": [
    {
     "name": "stdout",
     "output_type": "stream",
     "text": [
      "Trial 46\n",
      "PRE PROCESSING STEP: Savitzky Golay, SNV, MSC and 1st order Derivative\n",
      "Training R²  0.9829308299438972\n",
      "Validation R²  0.3043178329900287\n"
     ]
    }
   ],
   "source": [
    "#Trial 46 Savitzky Golay, SNV, MSC and 1st order Derivative\n",
    "#Input for derivative is an array\n",
    "print(\"Trial 46\")\n",
    "print(\"PRE PROCESSING STEP: Savitzky Golay, SNV, MSC and 1st order Derivative\")\n",
    "#window length is 19 same as that for moving window smoothing\n",
    "preprocessed_spectra = pd.DataFrame(derivate_first(msc(SNV(savitzky(spectra, 19)), wave_length), 19), columns=cols)\n",
    "#plotting_function(preprocessed_spectra, wave_length)\n",
    "#input to base line removal is a dataframe\n",
    "X_train, X_test, y_train, y_test = train_test_split(preprocessed_spectra, y, test_size=0.30, random_state=123) \n",
    "grid.fit(X_train, y_train)\n",
    "# print best parameter after tuning\n",
    "#print(\"Trial 38 : Best Parameters\", grid.best_params_)\n",
    "print(\"Training R\\u00b2 \", grid.score(X_train, y_train))\n",
    "print(\"Validation R\\u00b2 \",grid.score(X_test, y_test))\n",
    "result_df = result_df.append({'Trial No' : 'Trial 46','Model' : 'SVM',\n",
    "                              'Pre Processing': 'Savitzky Golay, SNV, MSC and 1st order Derivative', \n",
    "                              'Training R\\u00b2' : grid.score(X_train, y_train), \n",
    "                              'Validation R\\u00b2' : grid.score(X_test, y_test)}, \n",
    "                             ignore_index=True)"
   ]
  },
  {
   "cell_type": "code",
   "execution_count": 64,
   "metadata": {},
   "outputs": [
    {
     "name": "stdout",
     "output_type": "stream",
     "text": [
      "Trial 47\n",
      "PRE PROCESSING STEP: Savitzky Golay, SNV, MSC and 2nd order Derivative\n",
      "Training R²  -0.01007455928389489\n",
      "Validation R²  -0.00045641605117463513\n"
     ]
    }
   ],
   "source": [
    "#Trial 47 Savitzky Golay, SNV, MSC and 2nd order Derivative\n",
    "#Input for derivative is an array\n",
    "print(\"Trial 47\")\n",
    "print(\"PRE PROCESSING STEP: Savitzky Golay, SNV, MSC and 2nd order Derivative\")\n",
    "#window length is 19 same as that for moving window smoothing\n",
    "preprocessed_spectra = pd.DataFrame(derivate_second(msc(SNV(savitzky(spectra, 19))), 19), columns=cols)\n",
    "#plotting_function(preprocessed_spectra, wave_length)\n",
    "#input to base line removal is a dataframe\n",
    "X_train, X_test, y_train, y_test = train_test_split(preprocessed_spectra, y, test_size=0.30, random_state=123) \n",
    "grid.fit(X_train, y_train)\n",
    "# print best parameter after tuning\n",
    "#print(\"Trial 40 : Best Parameters\", grid.best_params_)\n",
    "print(\"Training R\\u00b2 \", grid.score(X_train, y_train))\n",
    "print(\"Validation R\\u00b2 \",grid.score(X_test, y_test))\n",
    "result_df = result_df.append({'Trial No' : 'Trial 47','Model' : 'SVM',\n",
    "                              'Pre Processing': 'Savitzky Golay, SNV, MSC and 2nd order Derivative', \n",
    "                              'Training R\\u00b2' : grid.score(X_train, y_train), \n",
    "                              'Validation R\\u00b2' : grid.score(X_test, y_test)}, \n",
    "                             ignore_index=True)"
   ]
  },
  {
   "cell_type": "code",
   "execution_count": 65,
   "metadata": {},
   "outputs": [
    {
     "name": "stdout",
     "output_type": "stream",
     "text": [
      "Trial 48\n",
      "PRE PROCESSING STEP: Savitzky Golay, SNV, De-Trending and 1st order Derivative\n",
      "Training R²  0.8875216640480004\n",
      "Validation R²  0.465087330806887\n"
     ]
    }
   ],
   "source": [
    "#Trial 48 Savitzky Golay, SNV, De-Trending and 1st order Derivative\n",
    "#Input for derivative is an array\n",
    "print(\"Trial 48\")\n",
    "print(\"PRE PROCESSING STEP: Savitzky Golay, SNV, De-Trending and 1st order Derivative\")\n",
    "#window length is 19 same as that for moving window smoothing\n",
    "preprocessed_spectra = pd.DataFrame(derivate_first(baseline(SNV(savitzky(spectra, 19)), wave_length), 19), columns=cols)\n",
    "#plotting_function(preprocessed_spectra, wave_length)\n",
    "#input to base line removal is a dataframe\n",
    "X_train, X_test, y_train, y_test = train_test_split(preprocessed_spectra, y, test_size=0.30, random_state=123) \n",
    "grid.fit(X_train, y_train)\n",
    "# print best parameter after tuning\n",
    "#print(\"Trial 41 : Best Parameters\", grid.best_params_)\n",
    "print(\"Training R\\u00b2 \", grid.score(X_train, y_train))\n",
    "print(\"Validation R\\u00b2 \",grid.score(X_test, y_test))\n",
    "result_df = result_df.append({'Trial No' : 'Trial 48','Model' : 'SVM',\n",
    "                              'Pre Processing': 'Savitzky Golay, SNV, De-Trending and 1st order Derivative', \n",
    "                              'Training R\\u00b2' : grid.score(X_train, y_train), \n",
    "                              'Validation R\\u00b2' : grid.score(X_test, y_test)}, \n",
    "                             ignore_index=True)"
   ]
  },
  {
   "cell_type": "code",
   "execution_count": 66,
   "metadata": {},
   "outputs": [
    {
     "name": "stdout",
     "output_type": "stream",
     "text": [
      "Trial 49\n",
      "PRE PROCESSING STEP: Savitzky Golay, SNV, De-Trending and 2nd order Derivative\n",
      "Training R²  0.0609833542100754\n",
      "Validation R²  0.03134767258979465\n"
     ]
    }
   ],
   "source": [
    "#Trial 49 Savitzky Golay, SNV, De-Trending and 2nd order Derivative\n",
    "#Input for derivative is an array\n",
    "print(\"Trial 49\")\n",
    "print(\"PRE PROCESSING STEP: Savitzky Golay, SNV, De-Trending and 2nd order Derivative\")\n",
    "#window length is 19 same as that for moving window smoothing\n",
    "preprocessed_spectra = pd.DataFrame(derivate_second(baseline(SNV(savitzky(spectra, 19)), wave_length), 19), columns=cols)\n",
    "#plotting_function(preprocessed_spectra, wave_length)\n",
    "#input to base line removal is a dataframe\n",
    "X_train, X_test, y_train, y_test = train_test_split(preprocessed_spectra, y, test_size=0.30, random_state=123) \n",
    "grid.fit(X_train, y_train)\n",
    "# print best parameter after tuning\n",
    "#print(\"Trial 42 : Best Parameters\", grid.best_params_)\n",
    "print(\"Training R\\u00b2 \", grid.score(X_train, y_train))\n",
    "print(\"Validation R\\u00b2 \",grid.score(X_test, y_test))\n",
    "result_df = result_df.append({'Trial No' : 'Trial 49','Model' : 'SVM',\n",
    "                              'Pre Processing': 'Savitzky Golay, SNV, De-Trending and 2nd order Derivative', \n",
    "                              'Training R\\u00b2' : grid.score(X_train, y_train), \n",
    "                              'Validation R\\u00b2' : grid.score(X_test, y_test)}, \n",
    "                             ignore_index=True)"
   ]
  },
  {
   "cell_type": "code",
   "execution_count": 67,
   "metadata": {},
   "outputs": [
    {
     "name": "stdout",
     "output_type": "stream",
     "text": [
      "Trial 50\n",
      "PRE PROCESSING STEP: Savitzky Golay, MSC, De-Trending and 1st order Derivative\n",
      "Training R²  0.002262351123856421\n",
      "Validation R²  -0.0001324444702448524\n"
     ]
    }
   ],
   "source": [
    "#Trial 50 Savitzky Golay, MSC, De-Trending and 1st order Derivative\n",
    "#Input for derivative is an array\n",
    "print(\"Trial 50\")\n",
    "print(\"PRE PROCESSING STEP: Savitzky Golay, MSC, De-Trending and 1st order Derivative\")\n",
    "#window length is 19 same as that for moving window smoothing\n",
    "preprocessed_spectra = pd.DataFrame(derivate_first(baseline(msc(savitzky(spectra, 19)), wave_length), 19), columns=cols)\n",
    "#plotting_function(preprocessed_spectra, wave_length)\n",
    "#input to base line removal is a dataframe\n",
    "X_train, X_test, y_train, y_test = train_test_split(preprocessed_spectra, y, test_size=0.30, random_state=123) \n",
    "grid.fit(X_train, y_train)\n",
    "# print best parameter after tuning\n",
    "#print(\"Trial 43 : Best Parameters\", grid.best_params_)\n",
    "print(\"Training R\\u00b2 \", grid.score(X_train, y_train))\n",
    "print(\"Validation R\\u00b2 \",grid.score(X_test, y_test))\n",
    "result_df = result_df.append({'Trial No' : 'Trial 50','Model' : 'SVM',\n",
    "                              'Pre Processing': 'Savitzky Golay, MSC, De-Trending and 1st order Derivative', \n",
    "                              'Training R\\u00b2' : grid.score(X_train, y_train), \n",
    "                              'Validation R\\u00b2' : grid.score(X_test, y_test)}, \n",
    "                             ignore_index=True)"
   ]
  },
  {
   "cell_type": "code",
   "execution_count": 68,
   "metadata": {},
   "outputs": [
    {
     "name": "stdout",
     "output_type": "stream",
     "text": [
      "Trial 51\n",
      "PRE PROCESSING STEP: Savitzky Golay, MSC, De-Trending and 2nd order Derivative\n",
      "Training R²  -0.010074559283901108\n",
      "Validation R²  -0.0004564160511724147\n"
     ]
    }
   ],
   "source": [
    "#Trial 51 Savitzky Golay, MSC, De-Trending and 2nd order Derivative\n",
    "#Input for derivative is an array\n",
    "print(\"Trial 51\")\n",
    "print(\"PRE PROCESSING STEP: Savitzky Golay, MSC, De-Trending and 2nd order Derivative\")\n",
    "#window length is 19 same as that for moving window smoothing\n",
    "preprocessed_spectra = pd.DataFrame(derivate_second(baseline(msc(savitzky(spectra, 19)), wave_length), 19), columns=cols)\n",
    "#plotting_function(preprocessed_spectra, wave_length)\n",
    "#input to base line removal is a dataframe\n",
    "X_train, X_test, y_train, y_test = train_test_split(preprocessed_spectra, y, test_size=0.30, random_state=123) \n",
    "grid.fit(X_train, y_train)\n",
    "# print best parameter after tuning\n",
    "#print(\"Trial 43 : Best Parameters\", grid.best_params_)\n",
    "print(\"Training R\\u00b2 \", grid.score(X_train, y_train))\n",
    "print(\"Validation R\\u00b2 \",grid.score(X_test, y_test))\n",
    "result_df = result_df.append({'Trial No' : 'Trial 51','Model' : 'SVM',\n",
    "                              'Pre Processing': 'Savitzky Golay, MSC, De-Trending and 2nd order Derivative', \n",
    "                              'Training R\\u00b2' : grid.score(X_train, y_train), \n",
    "                              'Validation R\\u00b2' : grid.score(X_test, y_test)}, \n",
    "                             ignore_index=True)"
   ]
  },
  {
   "cell_type": "code",
   "execution_count": 69,
   "metadata": {},
   "outputs": [
    {
     "name": "stdout",
     "output_type": "stream",
     "text": [
      "Trial 52\n",
      "PRE PROCESSING STEP: Moving window , SNV, De-Trending, MSC and 1st Order Derivative\n",
      "Training R²  -0.01007455928389489\n",
      "Validation R²  -0.00045641605117463513\n"
     ]
    }
   ],
   "source": [
    "#Trial 52 Moving window , SNV, De-Trending, MSC and 1st Order Derivative\n",
    "#Input for derivative is an array\n",
    "print(\"Trial 52\")\n",
    "print(\"PRE PROCESSING STEP: Moving window , SNV, De-Trending, MSC and 1st Order Derivative\")\n",
    "#window length is 19 same as that for moving window smoothing\n",
    "preprocessed_spectra = pd.DataFrame(derivate_first(msc(baseline(SNV(smooth_fast(spectra, 19, cols)), wave_length)), 19), columns=cols)\n",
    "#plotting_function(preprocessed_spectra, wave_length)\n",
    "#input to base line removal is a dataframe\n",
    "X_train, X_test, y_train, y_test = train_test_split(preprocessed_spectra, y, test_size=0.30, random_state=123) \n",
    "grid.fit(X_train, y_train)\n",
    "# print best parameter after tuning\n",
    "#print(\"Trial 38 : Best Parameters\", grid.best_params_)\n",
    "print(\"Training R\\u00b2 \", grid.score(X_train, y_train))\n",
    "print(\"Validation R\\u00b2 \",grid.score(X_test, y_test))\n",
    "result_df = result_df.append({'Trial No' : 'Trial 52','Model' : 'SVM',\n",
    "                              'Pre Processing': 'Moving window , SNV, De-Trending, MSC and 1st Order Derivative', \n",
    "                              'Training R\\u00b2' : grid.score(X_train, y_train), \n",
    "                              'Validation R\\u00b2' : grid.score(X_test, y_test)}, \n",
    "                             ignore_index=True)"
   ]
  },
  {
   "cell_type": "code",
   "execution_count": 70,
   "metadata": {},
   "outputs": [
    {
     "name": "stdout",
     "output_type": "stream",
     "text": [
      "Trial 53\n",
      "PRE PROCESSING STEP: Moving window , SNV, De-Trending, MSC and 2nd Order Derivative\n",
      "Training R²  -0.01007455928389489\n",
      "Validation R²  -0.00045641605117463513\n"
     ]
    }
   ],
   "source": [
    "#Trial 53 Moving window , SNV, De-Trending, MSC and 2nd Order Derivative\n",
    "#Input for derivative is an array\n",
    "print(\"Trial 53\")\n",
    "print(\"PRE PROCESSING STEP: Moving window , SNV, De-Trending, MSC and 2nd Order Derivative\")\n",
    "#window length is 19 same as that for moving window smoothing\n",
    "preprocessed_spectra = pd.DataFrame(derivate_second(msc(baseline(SNV(smooth_fast(spectra, 19, cols)), wave_length)), 19), columns=cols)\n",
    "#plotting_function(preprocessed_spectra, wave_length)\n",
    "#input to base line removal is a dataframe\n",
    "X_train, X_test, y_train, y_test = train_test_split(preprocessed_spectra, y, test_size=0.30, random_state=123) \n",
    "grid.fit(X_train, y_train)\n",
    "# print best parameter after tuning\n",
    "#print(\"Trial 38 : Best Parameters\", grid.best_params_)\n",
    "print(\"Training R\\u00b2 \", grid.score(X_train, y_train))\n",
    "print(\"Validation R\\u00b2 \",grid.score(X_test, y_test))\n",
    "result_df = result_df.append({'Trial No' : 'Trial 53','Model' : 'SVM',\n",
    "                              'Pre Processing': 'Moving window , SNV, De-Trending, MSC and 2nd Order Derivative', \n",
    "                              'Training R\\u00b2' : grid.score(X_train, y_train), \n",
    "                              'Validation R\\u00b2' : grid.score(X_test, y_test)}, \n",
    "                             ignore_index=True)"
   ]
  },
  {
   "cell_type": "code",
   "execution_count": 71,
   "metadata": {},
   "outputs": [
    {
     "name": "stdout",
     "output_type": "stream",
     "text": [
      "Trial 54\n",
      "PRE PROCESSING STEP: Savitzky Golay, SNV, De-Trending, MSC and 1st Order Derivative\n",
      "Training R²  -0.01007455928389489\n",
      "Validation R²  -0.00045641605117463513\n"
     ]
    }
   ],
   "source": [
    "#Trial 54 Savitzky Golay, SNV, De-Trending, MSC and 1st Order Derivative\n",
    "#Input for derivative is an array\n",
    "print(\"Trial 54\")\n",
    "print(\"PRE PROCESSING STEP: Savitzky Golay, SNV, De-Trending, MSC and 1st Order Derivative\")\n",
    "#window length is 19 same as that for moving window smoothing\n",
    "preprocessed_spectra = pd.DataFrame(derivate_first(msc(baseline(SNV(savitzky(spectra, 19)), wave_length)), 19), columns=cols)\n",
    "#plotting_function(preprocessed_spectra, wave_length)\n",
    "#input to base line removal is a dataframe\n",
    "X_train, X_test, y_train, y_test = train_test_split(preprocessed_spectra, y, test_size=0.30, random_state=123) \n",
    "grid.fit(X_train, y_train)\n",
    "# print best parameter after tuning\n",
    "#print(\"Trial 38 : Best Parameters\", grid.best_params_)\n",
    "print(\"Training R\\u00b2 \", grid.score(X_train, y_train))\n",
    "print(\"Validation R\\u00b2 \",grid.score(X_test, y_test))\n",
    "result_df = result_df.append({'Trial No' : 'Trial 54','Model' : 'SVM',\n",
    "                              'Pre Processing': 'Savitzky Golay, SNV, De-Trending, MSC and 1st Order Derivative', \n",
    "                              'Training R\\u00b2' : grid.score(X_train, y_train), \n",
    "                              'Validation R\\u00b2' : grid.score(X_test, y_test)}, \n",
    "                             ignore_index=True)"
   ]
  },
  {
   "cell_type": "code",
   "execution_count": 72,
   "metadata": {},
   "outputs": [
    {
     "name": "stdout",
     "output_type": "stream",
     "text": [
      "Trial 55\n",
      "PRE PROCESSING STEP: Savitzky Golay, SNV, De-Trending, MSC and 2nd Order Derivative\n",
      "Training R²  -0.01007455928389489\n",
      "Validation R²  -0.00045641605117463513\n"
     ]
    }
   ],
   "source": [
    "#Trial 55 Savitzky Golay, SNV, De-Trending, MSC and 2nd Order Derivative\n",
    "#Input for derivative is an array\n",
    "print(\"Trial 55\")\n",
    "print(\"PRE PROCESSING STEP: Savitzky Golay, SNV, De-Trending, MSC and 2nd Order Derivative\")\n",
    "#window length is 19 same as that for moving window smoothing\n",
    "preprocessed_spectra = pd.DataFrame(derivate_second(msc(baseline(SNV(savitzky(spectra, 19)), wave_length)), 19), columns=cols)\n",
    "#plotting_function(preprocessed_spectra, wave_length)\n",
    "#input to base line removal is a dataframe\n",
    "X_train, X_test, y_train, y_test = train_test_split(preprocessed_spectra, y, test_size=0.30, random_state=123) \n",
    "grid.fit(X_train, y_train)\n",
    "# print best parameter after tuning\n",
    "#print(\"Trial 38 : Best Parameters\", grid.best_params_)\n",
    "print(\"Training R\\u00b2 \", grid.score(X_train, y_train))\n",
    "print(\"Validation R\\u00b2 \",grid.score(X_test, y_test))\n",
    "result_df = result_df.append({'Trial No' : 'Trial 55','Model' : 'SVM',\n",
    "                              'Pre Processing': 'Savitzky Golay, SNV, De-Trending, MSC and 2nd Order Derivative', \n",
    "                              'Training R\\u00b2' : grid.score(X_train, y_train), \n",
    "                              'Validation R\\u00b2' : grid.score(X_test, y_test)}, \n",
    "                             ignore_index=True)"
   ]
  },
  {
   "cell_type": "code",
   "execution_count": 73,
   "metadata": {},
   "outputs": [
    {
     "data": {
      "text/html": [
       "<div>\n",
       "<style scoped>\n",
       "    .dataframe tbody tr th:only-of-type {\n",
       "        vertical-align: middle;\n",
       "    }\n",
       "\n",
       "    .dataframe tbody tr th {\n",
       "        vertical-align: top;\n",
       "    }\n",
       "\n",
       "    .dataframe thead th {\n",
       "        text-align: right;\n",
       "    }\n",
       "</style>\n",
       "<table border=\"1\" class=\"dataframe\">\n",
       "  <thead>\n",
       "    <tr style=\"text-align: right;\">\n",
       "      <th></th>\n",
       "      <th>Trial No</th>\n",
       "      <th>Model</th>\n",
       "      <th>Pre Processing</th>\n",
       "      <th>Training R²</th>\n",
       "      <th>Validation R²</th>\n",
       "    </tr>\n",
       "  </thead>\n",
       "  <tbody>\n",
       "    <tr>\n",
       "      <th>0</th>\n",
       "      <td>Trial 1</td>\n",
       "      <td>SVM</td>\n",
       "      <td>None</td>\n",
       "      <td>0.736168</td>\n",
       "      <td>0.600842</td>\n",
       "    </tr>\n",
       "    <tr>\n",
       "      <th>1</th>\n",
       "      <td>Trial 2</td>\n",
       "      <td>SVM</td>\n",
       "      <td>MW</td>\n",
       "      <td>0.692194</td>\n",
       "      <td>0.562931</td>\n",
       "    </tr>\n",
       "    <tr>\n",
       "      <th>2</th>\n",
       "      <td>Trial 3</td>\n",
       "      <td>SVM</td>\n",
       "      <td>SG</td>\n",
       "      <td>0.711168</td>\n",
       "      <td>0.588551</td>\n",
       "    </tr>\n",
       "    <tr>\n",
       "      <th>3</th>\n",
       "      <td>Trial 4</td>\n",
       "      <td>SVM</td>\n",
       "      <td>SNV</td>\n",
       "      <td>0.995624</td>\n",
       "      <td>0.466821</td>\n",
       "    </tr>\n",
       "    <tr>\n",
       "      <th>4</th>\n",
       "      <td>Trial 5</td>\n",
       "      <td>SVM</td>\n",
       "      <td>MSC</td>\n",
       "      <td>0.166823</td>\n",
       "      <td>0.027297</td>\n",
       "    </tr>\n",
       "    <tr>\n",
       "      <th>5</th>\n",
       "      <td>Trial 6</td>\n",
       "      <td>SVM</td>\n",
       "      <td>De-Trending</td>\n",
       "      <td>0.177411</td>\n",
       "      <td>0.100529</td>\n",
       "    </tr>\n",
       "    <tr>\n",
       "      <th>6</th>\n",
       "      <td>Trial 7</td>\n",
       "      <td>SVM</td>\n",
       "      <td>First Order Derivative</td>\n",
       "      <td>-0.000574</td>\n",
       "      <td>-0.000155</td>\n",
       "    </tr>\n",
       "    <tr>\n",
       "      <th>7</th>\n",
       "      <td>Trial 8</td>\n",
       "      <td>SVM</td>\n",
       "      <td>Second Order Derivative</td>\n",
       "      <td>-0.010075</td>\n",
       "      <td>-0.000456</td>\n",
       "    </tr>\n",
       "    <tr>\n",
       "      <th>8</th>\n",
       "      <td>Trial 9</td>\n",
       "      <td>SVM</td>\n",
       "      <td>Moving window and SNV</td>\n",
       "      <td>0.984426</td>\n",
       "      <td>0.750280</td>\n",
       "    </tr>\n",
       "    <tr>\n",
       "      <th>9</th>\n",
       "      <td>Trial 10</td>\n",
       "      <td>SVM</td>\n",
       "      <td>Moving window and MSC</td>\n",
       "      <td>0.978201</td>\n",
       "      <td>0.728669</td>\n",
       "    </tr>\n",
       "    <tr>\n",
       "      <th>10</th>\n",
       "      <td>Trial 11</td>\n",
       "      <td>SVM</td>\n",
       "      <td>Moving window and De-Trending</td>\n",
       "      <td>0.144631</td>\n",
       "      <td>0.103780</td>\n",
       "    </tr>\n",
       "    <tr>\n",
       "      <th>11</th>\n",
       "      <td>Trial 12</td>\n",
       "      <td>SVM</td>\n",
       "      <td>Moving window and 1st order Derivative</td>\n",
       "      <td>-0.010077</td>\n",
       "      <td>-0.000465</td>\n",
       "    </tr>\n",
       "    <tr>\n",
       "      <th>12</th>\n",
       "      <td>Trial 13</td>\n",
       "      <td>SVM</td>\n",
       "      <td>Moving window and 2nd order Derivative</td>\n",
       "      <td>-0.010075</td>\n",
       "      <td>-0.000456</td>\n",
       "    </tr>\n",
       "    <tr>\n",
       "      <th>13</th>\n",
       "      <td>Trial 14</td>\n",
       "      <td>SVM</td>\n",
       "      <td>Savitzky Golay smoothing and SNV</td>\n",
       "      <td>0.993751</td>\n",
       "      <td>0.736997</td>\n",
       "    </tr>\n",
       "    <tr>\n",
       "      <th>14</th>\n",
       "      <td>Trial 15</td>\n",
       "      <td>SVM</td>\n",
       "      <td>Savitzky Golay smoothing and MSC</td>\n",
       "      <td>0.123856</td>\n",
       "      <td>0.066040</td>\n",
       "    </tr>\n",
       "    <tr>\n",
       "      <th>15</th>\n",
       "      <td>Trial 16</td>\n",
       "      <td>SVM</td>\n",
       "      <td>Savitzky Golay smoothing and baseline removal</td>\n",
       "      <td>0.162408</td>\n",
       "      <td>0.100888</td>\n",
       "    </tr>\n",
       "    <tr>\n",
       "      <th>16</th>\n",
       "      <td>Trial 17</td>\n",
       "      <td>SVM</td>\n",
       "      <td>Savitzky Golay smoothing and 1st order Derivative</td>\n",
       "      <td>-0.000254</td>\n",
       "      <td>-0.000906</td>\n",
       "    </tr>\n",
       "    <tr>\n",
       "      <th>17</th>\n",
       "      <td>Trial 18</td>\n",
       "      <td>SVM</td>\n",
       "      <td>Savitzky Golay smoothing and 2nd order Derivative</td>\n",
       "      <td>-0.010075</td>\n",
       "      <td>-0.000456</td>\n",
       "    </tr>\n",
       "    <tr>\n",
       "      <th>18</th>\n",
       "      <td>Trial 19</td>\n",
       "      <td>SVM</td>\n",
       "      <td>Moving window , SNV and MSC</td>\n",
       "      <td>-0.010075</td>\n",
       "      <td>-0.000456</td>\n",
       "    </tr>\n",
       "    <tr>\n",
       "      <th>19</th>\n",
       "      <td>Trial 20</td>\n",
       "      <td>SVM</td>\n",
       "      <td>Moving window , SNV and De-Trending</td>\n",
       "      <td>0.975676</td>\n",
       "      <td>0.774581</td>\n",
       "    </tr>\n",
       "    <tr>\n",
       "      <th>20</th>\n",
       "      <td>Trial 21</td>\n",
       "      <td>SVM</td>\n",
       "      <td>Moving window , SNV and 1st order Derivative</td>\n",
       "      <td>0.699644</td>\n",
       "      <td>0.431217</td>\n",
       "    </tr>\n",
       "    <tr>\n",
       "      <th>21</th>\n",
       "      <td>Trial 22</td>\n",
       "      <td>SVM</td>\n",
       "      <td>Moving window , SNV and 2nd order Derivative</td>\n",
       "      <td>0.049340</td>\n",
       "      <td>0.018301</td>\n",
       "    </tr>\n",
       "    <tr>\n",
       "      <th>22</th>\n",
       "      <td>Trial 23</td>\n",
       "      <td>SVM</td>\n",
       "      <td>Moving window , MSC and De-Trending</td>\n",
       "      <td>0.087667</td>\n",
       "      <td>0.070364</td>\n",
       "    </tr>\n",
       "    <tr>\n",
       "      <th>23</th>\n",
       "      <td>Trial 24</td>\n",
       "      <td>SVM</td>\n",
       "      <td>Moving window , MSC and 1st order Derivative</td>\n",
       "      <td>-0.004328</td>\n",
       "      <td>-0.001169</td>\n",
       "    </tr>\n",
       "    <tr>\n",
       "      <th>24</th>\n",
       "      <td>Trial 25</td>\n",
       "      <td>SVM</td>\n",
       "      <td>Moving window , MSC and 2nd order Derivative</td>\n",
       "      <td>-0.010074</td>\n",
       "      <td>-0.000456</td>\n",
       "    </tr>\n",
       "    <tr>\n",
       "      <th>25</th>\n",
       "      <td>Trial 26</td>\n",
       "      <td>SVM</td>\n",
       "      <td>Moving window , De-Trending and 1st order Deri...</td>\n",
       "      <td>-0.008230</td>\n",
       "      <td>-0.007781</td>\n",
       "    </tr>\n",
       "    <tr>\n",
       "      <th>26</th>\n",
       "      <td>Trial 27</td>\n",
       "      <td>SVM</td>\n",
       "      <td>Moving window , De-Trending and 2nd order Deri...</td>\n",
       "      <td>-0.010075</td>\n",
       "      <td>-0.000456</td>\n",
       "    </tr>\n",
       "    <tr>\n",
       "      <th>27</th>\n",
       "      <td>Trial 28</td>\n",
       "      <td>SVM</td>\n",
       "      <td>Moving window , 1st order Derivative and 2nd o...</td>\n",
       "      <td>-0.010075</td>\n",
       "      <td>-0.000456</td>\n",
       "    </tr>\n",
       "    <tr>\n",
       "      <th>28</th>\n",
       "      <td>Trial 29</td>\n",
       "      <td>SVM</td>\n",
       "      <td>Savitzky Golay smoothing, SNV and MSC</td>\n",
       "      <td>-0.010075</td>\n",
       "      <td>-0.000456</td>\n",
       "    </tr>\n",
       "    <tr>\n",
       "      <th>29</th>\n",
       "      <td>Trial 30</td>\n",
       "      <td>SVM</td>\n",
       "      <td>Savitzky Golay smoothing, SNV and De-Trending</td>\n",
       "      <td>0.995551</td>\n",
       "      <td>0.802832</td>\n",
       "    </tr>\n",
       "    <tr>\n",
       "      <th>30</th>\n",
       "      <td>Trial 31</td>\n",
       "      <td>SVM</td>\n",
       "      <td>Savitzky Golay smoothing, SNV and 1st order De...</td>\n",
       "      <td>0.899607</td>\n",
       "      <td>0.491018</td>\n",
       "    </tr>\n",
       "    <tr>\n",
       "      <th>31</th>\n",
       "      <td>Trial 32</td>\n",
       "      <td>SVM</td>\n",
       "      <td>Savitzky Golay smoothing, SNV and 2nd order De...</td>\n",
       "      <td>0.060983</td>\n",
       "      <td>0.031348</td>\n",
       "    </tr>\n",
       "    <tr>\n",
       "      <th>32</th>\n",
       "      <td>Trial 33</td>\n",
       "      <td>SVM</td>\n",
       "      <td>Savitzky Golay smoothing, MSC and De-Trending</td>\n",
       "      <td>0.050530</td>\n",
       "      <td>0.039347</td>\n",
       "    </tr>\n",
       "    <tr>\n",
       "      <th>33</th>\n",
       "      <td>Trial 34</td>\n",
       "      <td>SVM</td>\n",
       "      <td>Savitzky Golay smoothing, MSC and 1st order De...</td>\n",
       "      <td>0.002468</td>\n",
       "      <td>0.000316</td>\n",
       "    </tr>\n",
       "    <tr>\n",
       "      <th>34</th>\n",
       "      <td>Trial 35</td>\n",
       "      <td>SVM</td>\n",
       "      <td>Savitzky Golay smoothing, MSC and 2nd order De...</td>\n",
       "      <td>-0.010075</td>\n",
       "      <td>-0.000456</td>\n",
       "    </tr>\n",
       "    <tr>\n",
       "      <th>35</th>\n",
       "      <td>Trial 36</td>\n",
       "      <td>SVM</td>\n",
       "      <td>Savitzky Golay smoothing, MSC and 1st order De...</td>\n",
       "      <td>0.002128</td>\n",
       "      <td>0.001284</td>\n",
       "    </tr>\n",
       "    <tr>\n",
       "      <th>36</th>\n",
       "      <td>Trial 37</td>\n",
       "      <td>SVM</td>\n",
       "      <td>Savitzky Golay smoothing, MSC and 2nd order De...</td>\n",
       "      <td>-0.010075</td>\n",
       "      <td>-0.000456</td>\n",
       "    </tr>\n",
       "    <tr>\n",
       "      <th>37</th>\n",
       "      <td>Trial 38</td>\n",
       "      <td>SVM</td>\n",
       "      <td>Moving window , SNV, De-Trending and MSC</td>\n",
       "      <td>-0.010075</td>\n",
       "      <td>-0.000456</td>\n",
       "    </tr>\n",
       "    <tr>\n",
       "      <th>38</th>\n",
       "      <td>Trial 39</td>\n",
       "      <td>SVM</td>\n",
       "      <td>Moving window, SNV, MSC and 1st order Derivative</td>\n",
       "      <td>0.937060</td>\n",
       "      <td>0.387244</td>\n",
       "    </tr>\n",
       "    <tr>\n",
       "      <th>39</th>\n",
       "      <td>Trial 40</td>\n",
       "      <td>SVM</td>\n",
       "      <td>Moving window, SNV, MSC and 2nd order Derivative</td>\n",
       "      <td>-0.010075</td>\n",
       "      <td>-0.000456</td>\n",
       "    </tr>\n",
       "    <tr>\n",
       "      <th>40</th>\n",
       "      <td>Trial 41</td>\n",
       "      <td>SVM</td>\n",
       "      <td>Moving window, SNV, De-Trending and 1st order ...</td>\n",
       "      <td>0.695015</td>\n",
       "      <td>0.422443</td>\n",
       "    </tr>\n",
       "    <tr>\n",
       "      <th>41</th>\n",
       "      <td>Trial 42</td>\n",
       "      <td>SVM</td>\n",
       "      <td>Moving window, SNV, De-Trending and 2nd order ...</td>\n",
       "      <td>0.049340</td>\n",
       "      <td>0.018301</td>\n",
       "    </tr>\n",
       "    <tr>\n",
       "      <th>42</th>\n",
       "      <td>Trial 43</td>\n",
       "      <td>SVM</td>\n",
       "      <td>Moving window, MSC, De-Trending and 1st order ...</td>\n",
       "      <td>-0.004039</td>\n",
       "      <td>-0.001325</td>\n",
       "    </tr>\n",
       "    <tr>\n",
       "      <th>43</th>\n",
       "      <td>Trial 44</td>\n",
       "      <td>SVM</td>\n",
       "      <td>Moving window, MSC, De-Trending and 2nd order ...</td>\n",
       "      <td>-0.010074</td>\n",
       "      <td>-0.000456</td>\n",
       "    </tr>\n",
       "    <tr>\n",
       "      <th>44</th>\n",
       "      <td>Trial 45</td>\n",
       "      <td>SVM</td>\n",
       "      <td>Savitzky Golay, SNV, De-Trending and MSC</td>\n",
       "      <td>-0.010075</td>\n",
       "      <td>-0.000456</td>\n",
       "    </tr>\n",
       "    <tr>\n",
       "      <th>45</th>\n",
       "      <td>Trial 46</td>\n",
       "      <td>SVM</td>\n",
       "      <td>Savitzky Golay, SNV, MSC and 1st order Derivative</td>\n",
       "      <td>0.982931</td>\n",
       "      <td>0.304318</td>\n",
       "    </tr>\n",
       "    <tr>\n",
       "      <th>46</th>\n",
       "      <td>Trial 47</td>\n",
       "      <td>SVM</td>\n",
       "      <td>Savitzky Golay, SNV, MSC and 2nd order Derivative</td>\n",
       "      <td>-0.010075</td>\n",
       "      <td>-0.000456</td>\n",
       "    </tr>\n",
       "    <tr>\n",
       "      <th>47</th>\n",
       "      <td>Trial 48</td>\n",
       "      <td>SVM</td>\n",
       "      <td>Savitzky Golay, SNV, De-Trending and 1st order...</td>\n",
       "      <td>0.887522</td>\n",
       "      <td>0.465087</td>\n",
       "    </tr>\n",
       "    <tr>\n",
       "      <th>48</th>\n",
       "      <td>Trial 49</td>\n",
       "      <td>SVM</td>\n",
       "      <td>Savitzky Golay, SNV, De-Trending and 2nd order...</td>\n",
       "      <td>0.060983</td>\n",
       "      <td>0.031348</td>\n",
       "    </tr>\n",
       "    <tr>\n",
       "      <th>49</th>\n",
       "      <td>Trial 50</td>\n",
       "      <td>SVM</td>\n",
       "      <td>Savitzky Golay, MSC, De-Trending and 1st order...</td>\n",
       "      <td>0.002262</td>\n",
       "      <td>-0.000132</td>\n",
       "    </tr>\n",
       "    <tr>\n",
       "      <th>50</th>\n",
       "      <td>Trial 51</td>\n",
       "      <td>SVM</td>\n",
       "      <td>Savitzky Golay, MSC, De-Trending and 2nd order...</td>\n",
       "      <td>-0.010075</td>\n",
       "      <td>-0.000456</td>\n",
       "    </tr>\n",
       "    <tr>\n",
       "      <th>51</th>\n",
       "      <td>Trial 52</td>\n",
       "      <td>SVM</td>\n",
       "      <td>Moving window , SNV, De-Trending, MSC and 1st ...</td>\n",
       "      <td>-0.010075</td>\n",
       "      <td>-0.000456</td>\n",
       "    </tr>\n",
       "    <tr>\n",
       "      <th>52</th>\n",
       "      <td>Trial 53</td>\n",
       "      <td>SVM</td>\n",
       "      <td>Moving window , SNV, De-Trending, MSC and 2nd ...</td>\n",
       "      <td>-0.010075</td>\n",
       "      <td>-0.000456</td>\n",
       "    </tr>\n",
       "    <tr>\n",
       "      <th>53</th>\n",
       "      <td>Trial 54</td>\n",
       "      <td>SVM</td>\n",
       "      <td>Savitzky Golay, SNV, De-Trending, MSC and 1st ...</td>\n",
       "      <td>-0.010075</td>\n",
       "      <td>-0.000456</td>\n",
       "    </tr>\n",
       "    <tr>\n",
       "      <th>54</th>\n",
       "      <td>Trial 55</td>\n",
       "      <td>SVM</td>\n",
       "      <td>Savitzky Golay, SNV, De-Trending, MSC and 2nd ...</td>\n",
       "      <td>-0.010075</td>\n",
       "      <td>-0.000456</td>\n",
       "    </tr>\n",
       "  </tbody>\n",
       "</table>\n",
       "</div>"
      ],
      "text/plain": [
       "    Trial No Model                                     Pre Processing  \\\n",
       "0    Trial 1   SVM                                               None   \n",
       "1    Trial 2   SVM                                                 MW   \n",
       "2    Trial 3   SVM                                                 SG   \n",
       "3    Trial 4   SVM                                                SNV   \n",
       "4    Trial 5   SVM                                                MSC   \n",
       "5    Trial 6   SVM                                        De-Trending   \n",
       "6    Trial 7   SVM                             First Order Derivative   \n",
       "7    Trial 8   SVM                            Second Order Derivative   \n",
       "8    Trial 9   SVM                              Moving window and SNV   \n",
       "9   Trial 10   SVM                              Moving window and MSC   \n",
       "10  Trial 11   SVM                      Moving window and De-Trending   \n",
       "11  Trial 12   SVM             Moving window and 1st order Derivative   \n",
       "12  Trial 13   SVM             Moving window and 2nd order Derivative   \n",
       "13  Trial 14   SVM                   Savitzky Golay smoothing and SNV   \n",
       "14  Trial 15   SVM                   Savitzky Golay smoothing and MSC   \n",
       "15  Trial 16   SVM      Savitzky Golay smoothing and baseline removal   \n",
       "16  Trial 17   SVM  Savitzky Golay smoothing and 1st order Derivative   \n",
       "17  Trial 18   SVM  Savitzky Golay smoothing and 2nd order Derivative   \n",
       "18  Trial 19   SVM                        Moving window , SNV and MSC   \n",
       "19  Trial 20   SVM                Moving window , SNV and De-Trending   \n",
       "20  Trial 21   SVM       Moving window , SNV and 1st order Derivative   \n",
       "21  Trial 22   SVM       Moving window , SNV and 2nd order Derivative   \n",
       "22  Trial 23   SVM                Moving window , MSC and De-Trending   \n",
       "23  Trial 24   SVM       Moving window , MSC and 1st order Derivative   \n",
       "24  Trial 25   SVM       Moving window , MSC and 2nd order Derivative   \n",
       "25  Trial 26   SVM  Moving window , De-Trending and 1st order Deri...   \n",
       "26  Trial 27   SVM  Moving window , De-Trending and 2nd order Deri...   \n",
       "27  Trial 28   SVM  Moving window , 1st order Derivative and 2nd o...   \n",
       "28  Trial 29   SVM              Savitzky Golay smoothing, SNV and MSC   \n",
       "29  Trial 30   SVM      Savitzky Golay smoothing, SNV and De-Trending   \n",
       "30  Trial 31   SVM  Savitzky Golay smoothing, SNV and 1st order De...   \n",
       "31  Trial 32   SVM  Savitzky Golay smoothing, SNV and 2nd order De...   \n",
       "32  Trial 33   SVM      Savitzky Golay smoothing, MSC and De-Trending   \n",
       "33  Trial 34   SVM  Savitzky Golay smoothing, MSC and 1st order De...   \n",
       "34  Trial 35   SVM  Savitzky Golay smoothing, MSC and 2nd order De...   \n",
       "35  Trial 36   SVM  Savitzky Golay smoothing, MSC and 1st order De...   \n",
       "36  Trial 37   SVM  Savitzky Golay smoothing, MSC and 2nd order De...   \n",
       "37  Trial 38   SVM           Moving window , SNV, De-Trending and MSC   \n",
       "38  Trial 39   SVM   Moving window, SNV, MSC and 1st order Derivative   \n",
       "39  Trial 40   SVM   Moving window, SNV, MSC and 2nd order Derivative   \n",
       "40  Trial 41   SVM  Moving window, SNV, De-Trending and 1st order ...   \n",
       "41  Trial 42   SVM  Moving window, SNV, De-Trending and 2nd order ...   \n",
       "42  Trial 43   SVM  Moving window, MSC, De-Trending and 1st order ...   \n",
       "43  Trial 44   SVM  Moving window, MSC, De-Trending and 2nd order ...   \n",
       "44  Trial 45   SVM           Savitzky Golay, SNV, De-Trending and MSC   \n",
       "45  Trial 46   SVM  Savitzky Golay, SNV, MSC and 1st order Derivative   \n",
       "46  Trial 47   SVM  Savitzky Golay, SNV, MSC and 2nd order Derivative   \n",
       "47  Trial 48   SVM  Savitzky Golay, SNV, De-Trending and 1st order...   \n",
       "48  Trial 49   SVM  Savitzky Golay, SNV, De-Trending and 2nd order...   \n",
       "49  Trial 50   SVM  Savitzky Golay, MSC, De-Trending and 1st order...   \n",
       "50  Trial 51   SVM  Savitzky Golay, MSC, De-Trending and 2nd order...   \n",
       "51  Trial 52   SVM  Moving window , SNV, De-Trending, MSC and 1st ...   \n",
       "52  Trial 53   SVM  Moving window , SNV, De-Trending, MSC and 2nd ...   \n",
       "53  Trial 54   SVM  Savitzky Golay, SNV, De-Trending, MSC and 1st ...   \n",
       "54  Trial 55   SVM  Savitzky Golay, SNV, De-Trending, MSC and 2nd ...   \n",
       "\n",
       "    Training R²  Validation R²  \n",
       "0      0.736168       0.600842  \n",
       "1      0.692194       0.562931  \n",
       "2      0.711168       0.588551  \n",
       "3      0.995624       0.466821  \n",
       "4      0.166823       0.027297  \n",
       "5      0.177411       0.100529  \n",
       "6     -0.000574      -0.000155  \n",
       "7     -0.010075      -0.000456  \n",
       "8      0.984426       0.750280  \n",
       "9      0.978201       0.728669  \n",
       "10     0.144631       0.103780  \n",
       "11    -0.010077      -0.000465  \n",
       "12    -0.010075      -0.000456  \n",
       "13     0.993751       0.736997  \n",
       "14     0.123856       0.066040  \n",
       "15     0.162408       0.100888  \n",
       "16    -0.000254      -0.000906  \n",
       "17    -0.010075      -0.000456  \n",
       "18    -0.010075      -0.000456  \n",
       "19     0.975676       0.774581  \n",
       "20     0.699644       0.431217  \n",
       "21     0.049340       0.018301  \n",
       "22     0.087667       0.070364  \n",
       "23    -0.004328      -0.001169  \n",
       "24    -0.010074      -0.000456  \n",
       "25    -0.008230      -0.007781  \n",
       "26    -0.010075      -0.000456  \n",
       "27    -0.010075      -0.000456  \n",
       "28    -0.010075      -0.000456  \n",
       "29     0.995551       0.802832  \n",
       "30     0.899607       0.491018  \n",
       "31     0.060983       0.031348  \n",
       "32     0.050530       0.039347  \n",
       "33     0.002468       0.000316  \n",
       "34    -0.010075      -0.000456  \n",
       "35     0.002128       0.001284  \n",
       "36    -0.010075      -0.000456  \n",
       "37    -0.010075      -0.000456  \n",
       "38     0.937060       0.387244  \n",
       "39    -0.010075      -0.000456  \n",
       "40     0.695015       0.422443  \n",
       "41     0.049340       0.018301  \n",
       "42    -0.004039      -0.001325  \n",
       "43    -0.010074      -0.000456  \n",
       "44    -0.010075      -0.000456  \n",
       "45     0.982931       0.304318  \n",
       "46    -0.010075      -0.000456  \n",
       "47     0.887522       0.465087  \n",
       "48     0.060983       0.031348  \n",
       "49     0.002262      -0.000132  \n",
       "50    -0.010075      -0.000456  \n",
       "51    -0.010075      -0.000456  \n",
       "52    -0.010075      -0.000456  \n",
       "53    -0.010075      -0.000456  \n",
       "54    -0.010075      -0.000456  "
      ]
     },
     "execution_count": 73,
     "metadata": {},
     "output_type": "execute_result"
    }
   ],
   "source": [
    "result_df"
   ]
  },
  {
   "cell_type": "code",
   "execution_count": null,
   "metadata": {},
   "outputs": [],
   "source": []
  },
  {
   "cell_type": "code",
   "execution_count": null,
   "metadata": {},
   "outputs": [],
   "source": []
  },
  {
   "cell_type": "code",
   "execution_count": null,
   "metadata": {},
   "outputs": [],
   "source": []
  },
  {
   "cell_type": "code",
   "execution_count": null,
   "metadata": {},
   "outputs": [],
   "source": []
  },
  {
   "cell_type": "code",
   "execution_count": null,
   "metadata": {},
   "outputs": [],
   "source": []
  },
  {
   "cell_type": "code",
   "execution_count": 37,
   "metadata": {},
   "outputs": [
    {
     "name": "stdout",
     "output_type": "stream",
     "text": [
      "R² + y² = 2\n"
     ]
    }
   ],
   "source": [
    "print(\"R\\u00b2 + y\\u00b2 = 2\")  # x² + y² = 2"
   ]
  },
  {
   "cell_type": "code",
   "execution_count": 38,
   "metadata": {},
   "outputs": [
    {
     "name": "stdout",
     "output_type": "stream",
     "text": [
      "R²\n"
     ]
    }
   ],
   "source": [
    "print(\"R\\u00b2\")"
   ]
  },
  {
   "cell_type": "code",
   "execution_count": null,
   "metadata": {},
   "outputs": [],
   "source": []
  }
 ],
 "metadata": {
  "kernelspec": {
   "display_name": "Python 3",
   "language": "python",
   "name": "python3"
  },
  "language_info": {
   "codemirror_mode": {
    "name": "ipython",
    "version": 3
   },
   "file_extension": ".py",
   "mimetype": "text/x-python",
   "name": "python",
   "nbconvert_exporter": "python",
   "pygments_lexer": "ipython3",
   "version": "3.7.4"
  }
 },
 "nbformat": 4,
 "nbformat_minor": 4
}
